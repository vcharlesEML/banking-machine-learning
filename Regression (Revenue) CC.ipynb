{
 "cells": [
  {
   "cell_type": "markdown",
   "metadata": {},
   "source": [
    "# Let's start with imporing the necessary libraries:"
   ]
  },
  {
   "cell_type": "code",
   "execution_count": 45,
   "metadata": {},
   "outputs": [],
   "source": [
    "#import necessary libraries\n",
    "import pandas as pd\n",
    "import numpy as np\n",
    "import seaborn as sns\n",
    "from scipy import stats\n",
    "import numpy as np\n",
    "import matplotlib.pyplot as plt\n",
    "import os\n",
    "from sklearn.model_selection import train_test_split\n",
    "from imblearn.over_sampling import SMOTE\n",
    "get_ipython().run_line_magic('matplotlib', 'inline')\n",
    "\n",
    "import warnings\n",
    "warnings.filterwarnings(\"ignore\")\n",
    "\n",
    "#use the following commands if some of the modules are not installed:\n",
    "#conda install joblib\n",
    "#conda install -c conda-forge imbalanced-learn"
   ]
  },
  {
   "cell_type": "markdown",
   "metadata": {},
   "source": [
    "# Split the data into two: 60% of clients for who we know the outcome and 40% of clients that we are going to use for making predictions:"
   ]
  },
  {
   "cell_type": "code",
   "execution_count": 46,
   "metadata": {},
   "outputs": [
    {
     "name": "stdout",
     "output_type": "stream",
     "text": [
      "(969, 35)\n",
      "(646, 35)\n"
     ]
    }
   ],
   "source": [
    "#import data from the file\n",
    "Soc_Dem = pd.read_excel('~/Desktop/DMML_Project_Dataset.xlsx', sheet_name=\"Soc_Dem\")\n",
    "Act_Prod = pd.read_excel('~/Desktop/DMML_Project_Dataset.xlsx', sheet_name=\"Products_ActBalance\")\n",
    "Flow = pd.read_excel('~/Desktop/DMML_Project_Dataset.xlsx', sheet_name=\"Inflow_Outflow\")\n",
    "Sales_Rev = pd.read_excel('~/Desktop/DMML_Project_Dataset.xlsx', sheet_name=\"Sales_Revenues\")\n",
    "\n",
    "#join the tables\n",
    "Soc_Dem = Soc_Dem.sort_values(by=['Client'])\n",
    "Act_Prod = Act_Prod.sort_values(by=['Client'])\n",
    "Flow = Flow.sort_values(by=['Client'])\n",
    "Sales_Rev = Sales_Rev.sort_values(by=['Client'])\n",
    "\n",
    "merge_1 = pd.merge(Soc_Dem, Act_Prod, how='left', on=['Client'])\n",
    "merge_2 = pd.merge(merge_1, Flow, how='left', on=['Client'])\n",
    "final = pd.merge(merge_2, Sales_Rev, how='left', on=['Client'])\n",
    "\n",
    "#create a set for 60% of clients in the dataset which will be used for training models (we know outcome for these clients)\n",
    "main_right = pd.merge(Flow, Sales_Rev, how='right', on=['Client'])\n",
    "main = pd.merge (merge_1, main_right, how = 'right', on = ['Client'])\n",
    "\n",
    "#create a set for 40% of clients in the dataset which will be used for predicting 100 customers\n",
    "predict = pd.concat([final,main],ignore_index=True)\n",
    "predict = predict.drop_duplicates(subset='Client',keep=False)\n",
    "\n",
    "#set Client column as an index:\n",
    "main.set_index('Client', inplace=True)\n",
    "predict.set_index('Client', inplace=True)\n",
    "\n",
    "print(main.shape)\n",
    "print(predict.shape) #we set aside this DF"
   ]
  },
  {
   "cell_type": "markdown",
   "metadata": {},
   "source": [
    "# Data preparation for future modelling. Handling missing values and dealing with categorical values."
   ]
  },
  {
   "cell_type": "code",
   "execution_count": 47,
   "metadata": {},
   "outputs": [
    {
     "data": {
      "text/html": [
       "<div>\n",
       "<style scoped>\n",
       "    .dataframe tbody tr th:only-of-type {\n",
       "        vertical-align: middle;\n",
       "    }\n",
       "\n",
       "    .dataframe tbody tr th {\n",
       "        vertical-align: top;\n",
       "    }\n",
       "\n",
       "    .dataframe thead th {\n",
       "        text-align: right;\n",
       "    }\n",
       "</style>\n",
       "<table border=\"1\" class=\"dataframe\">\n",
       "  <thead>\n",
       "    <tr style=\"text-align: right;\">\n",
       "      <th></th>\n",
       "      <th>F</th>\n",
       "      <th>M</th>\n",
       "      <th>Sex</th>\n",
       "      <th>Age</th>\n",
       "      <th>Tenure</th>\n",
       "      <th>Count_CA</th>\n",
       "      <th>Count_SA</th>\n",
       "      <th>Count_MF</th>\n",
       "      <th>Count_OVD</th>\n",
       "      <th>Count_CC</th>\n",
       "      <th>...</th>\n",
       "      <th>TransactionsDeb_CA</th>\n",
       "      <th>TransactionsDebCash_Card</th>\n",
       "      <th>TransactionsDebCashless_Card</th>\n",
       "      <th>TransactionsDeb_PaymentOrder</th>\n",
       "      <th>Sale_MF</th>\n",
       "      <th>Sale_CC</th>\n",
       "      <th>Sale_CL</th>\n",
       "      <th>Revenue_MF</th>\n",
       "      <th>Revenue_CC</th>\n",
       "      <th>Revenue_CL</th>\n",
       "    </tr>\n",
       "    <tr>\n",
       "      <th>Client</th>\n",
       "      <th></th>\n",
       "      <th></th>\n",
       "      <th></th>\n",
       "      <th></th>\n",
       "      <th></th>\n",
       "      <th></th>\n",
       "      <th></th>\n",
       "      <th></th>\n",
       "      <th></th>\n",
       "      <th></th>\n",
       "      <th></th>\n",
       "      <th></th>\n",
       "      <th></th>\n",
       "      <th></th>\n",
       "      <th></th>\n",
       "      <th></th>\n",
       "      <th></th>\n",
       "      <th></th>\n",
       "      <th></th>\n",
       "      <th></th>\n",
       "      <th></th>\n",
       "    </tr>\n",
       "  </thead>\n",
       "  <tbody>\n",
       "    <tr>\n",
       "      <th>20</th>\n",
       "      <td>0</td>\n",
       "      <td>1</td>\n",
       "      <td>M</td>\n",
       "      <td>27</td>\n",
       "      <td>181</td>\n",
       "      <td>1</td>\n",
       "      <td>1.0</td>\n",
       "      <td>0.0</td>\n",
       "      <td>0.0</td>\n",
       "      <td>0.0</td>\n",
       "      <td>...</td>\n",
       "      <td>7.0</td>\n",
       "      <td>3.0</td>\n",
       "      <td>1.0</td>\n",
       "      <td>3.0</td>\n",
       "      <td>0</td>\n",
       "      <td>1</td>\n",
       "      <td>0</td>\n",
       "      <td>0.0</td>\n",
       "      <td>3.822500</td>\n",
       "      <td>0.000000</td>\n",
       "    </tr>\n",
       "    <tr>\n",
       "      <th>21</th>\n",
       "      <td>1</td>\n",
       "      <td>0</td>\n",
       "      <td>F</td>\n",
       "      <td>24</td>\n",
       "      <td>60</td>\n",
       "      <td>1</td>\n",
       "      <td>1.0</td>\n",
       "      <td>0.0</td>\n",
       "      <td>0.0</td>\n",
       "      <td>0.0</td>\n",
       "      <td>...</td>\n",
       "      <td>22.0</td>\n",
       "      <td>4.0</td>\n",
       "      <td>14.0</td>\n",
       "      <td>3.0</td>\n",
       "      <td>0</td>\n",
       "      <td>1</td>\n",
       "      <td>0</td>\n",
       "      <td>0.0</td>\n",
       "      <td>3.607143</td>\n",
       "      <td>0.000000</td>\n",
       "    </tr>\n",
       "    <tr>\n",
       "      <th>22</th>\n",
       "      <td>0</td>\n",
       "      <td>1</td>\n",
       "      <td>M</td>\n",
       "      <td>54</td>\n",
       "      <td>0</td>\n",
       "      <td>1</td>\n",
       "      <td>0.0</td>\n",
       "      <td>0.0</td>\n",
       "      <td>0.0</td>\n",
       "      <td>0.0</td>\n",
       "      <td>...</td>\n",
       "      <td>29.0</td>\n",
       "      <td>4.0</td>\n",
       "      <td>12.0</td>\n",
       "      <td>9.0</td>\n",
       "      <td>0</td>\n",
       "      <td>1</td>\n",
       "      <td>1</td>\n",
       "      <td>0.0</td>\n",
       "      <td>1.107143</td>\n",
       "      <td>30.560357</td>\n",
       "    </tr>\n",
       "    <tr>\n",
       "      <th>29</th>\n",
       "      <td>1</td>\n",
       "      <td>0</td>\n",
       "      <td>F</td>\n",
       "      <td>60</td>\n",
       "      <td>150</td>\n",
       "      <td>1</td>\n",
       "      <td>0.0</td>\n",
       "      <td>0.0</td>\n",
       "      <td>1.0</td>\n",
       "      <td>0.0</td>\n",
       "      <td>...</td>\n",
       "      <td>4.0</td>\n",
       "      <td>1.0</td>\n",
       "      <td>0.0</td>\n",
       "      <td>1.0</td>\n",
       "      <td>0</td>\n",
       "      <td>1</td>\n",
       "      <td>0</td>\n",
       "      <td>0.0</td>\n",
       "      <td>4.286786</td>\n",
       "      <td>0.000000</td>\n",
       "    </tr>\n",
       "    <tr>\n",
       "      <th>33</th>\n",
       "      <td>0</td>\n",
       "      <td>1</td>\n",
       "      <td>M</td>\n",
       "      <td>71</td>\n",
       "      <td>150</td>\n",
       "      <td>1</td>\n",
       "      <td>0.0</td>\n",
       "      <td>0.0</td>\n",
       "      <td>0.0</td>\n",
       "      <td>0.0</td>\n",
       "      <td>...</td>\n",
       "      <td>13.0</td>\n",
       "      <td>2.0</td>\n",
       "      <td>4.0</td>\n",
       "      <td>6.0</td>\n",
       "      <td>0</td>\n",
       "      <td>1</td>\n",
       "      <td>1</td>\n",
       "      <td>0.0</td>\n",
       "      <td>3.250000</td>\n",
       "      <td>14.989643</td>\n",
       "    </tr>\n",
       "  </tbody>\n",
       "</table>\n",
       "<p>5 rows × 37 columns</p>\n",
       "</div>"
      ],
      "text/plain": [
       "        F  M Sex  Age  Tenure  Count_CA  Count_SA  Count_MF  Count_OVD  \\\n",
       "Client                                                                   \n",
       "20      0  1   M   27     181         1       1.0       0.0        0.0   \n",
       "21      1  0   F   24      60         1       1.0       0.0        0.0   \n",
       "22      0  1   M   54       0         1       0.0       0.0        0.0   \n",
       "29      1  0   F   60     150         1       0.0       0.0        1.0   \n",
       "33      0  1   M   71     150         1       0.0       0.0        0.0   \n",
       "\n",
       "        Count_CC     ...      TransactionsDeb_CA  TransactionsDebCash_Card  \\\n",
       "Client               ...                                                     \n",
       "20           0.0     ...                     7.0                       3.0   \n",
       "21           0.0     ...                    22.0                       4.0   \n",
       "22           0.0     ...                    29.0                       4.0   \n",
       "29           0.0     ...                     4.0                       1.0   \n",
       "33           0.0     ...                    13.0                       2.0   \n",
       "\n",
       "        TransactionsDebCashless_Card  TransactionsDeb_PaymentOrder  Sale_MF  \\\n",
       "Client                                                                        \n",
       "20                               1.0                           3.0        0   \n",
       "21                              14.0                           3.0        0   \n",
       "22                              12.0                           9.0        0   \n",
       "29                               0.0                           1.0        0   \n",
       "33                               4.0                           6.0        0   \n",
       "\n",
       "        Sale_CC  Sale_CL  Revenue_MF  Revenue_CC  Revenue_CL  \n",
       "Client                                                        \n",
       "20            1        0         0.0    3.822500    0.000000  \n",
       "21            1        0         0.0    3.607143    0.000000  \n",
       "22            1        1         0.0    1.107143   30.560357  \n",
       "29            1        0         0.0    4.286786    0.000000  \n",
       "33            1        1         0.0    3.250000   14.989643  \n",
       "\n",
       "[5 rows x 37 columns]"
      ]
     },
     "execution_count": 47,
     "metadata": {},
     "output_type": "execute_result"
    }
   ],
   "source": [
    "#We have quite many missing values. It's time to theat them.\n",
    "\n",
    "#First, impute the 2 missing Sex variables with the most common category\n",
    "main['Sex'].fillna(main['Sex'].value_counts().index[0], inplace=True)\n",
    "\n",
    "#Second, replace all the NaN values with zero values\n",
    "main = main.replace(np.nan, 0)\n",
    "\n",
    "#Now we need to replace categories with dummy variables.\n",
    "\n",
    "#create dummy variables for Sex feature\n",
    "sex_dummies = pd.get_dummies(main['Sex'])\n",
    "main = pd.concat([sex_dummies, main], axis = 1)\n",
    "\n",
    "#get observations for which column Age has value lower than 18\n",
    "#get observations for customers who did not accept MF offer \n",
    "#since we are applying our model only to those customers who are most likely to accept the offer, we drop those with Sale_MF = 0\n",
    "\n",
    "drop  = main[(main['Sale_CC'] == 0) | (main['Age'] < 18)].index\n",
    "\n",
    "# Delete these rows from dataFrame\n",
    "main = main.drop(drop)\n",
    "main.head()"
   ]
  },
  {
   "cell_type": "code",
   "execution_count": 48,
   "metadata": {},
   "outputs": [],
   "source": [
    "#drop columns with more than 70% of zeroes:\n",
    "main = main.drop([\"Count_SA\",\"Count_MF\",\"Count_OVD\",\"Count_CC\",\n",
    "                   \"Count_CL\",\"ActBal_MF\",\"ActBal_SA\",\"ActBal_OVD\",\"ActBal_CC\",\"ActBal_CL\", 'Sex'],axis=1)"
   ]
  },
  {
   "cell_type": "markdown",
   "metadata": {},
   "source": [
    "# Feature scaling and normalisation:"
   ]
  },
  {
   "cell_type": "code",
   "execution_count": 49,
   "metadata": {},
   "outputs": [],
   "source": [
    "#We choose the same features as for classification as they are not correlated:\n",
    "x = main['Age']\n",
    "x1 = main['Tenure']\n",
    "x2 = main['ActBal_CA']\n",
    "x3 = main['VolumeCred']\n",
    "x4 = main['VolumeDebCashless_Card']"
   ]
  },
  {
   "cell_type": "code",
   "execution_count": 50,
   "metadata": {},
   "outputs": [
    {
     "data": {
      "image/png": "[encoded data removed]",
      "text/plain": [
       "<Figure size 432x288 with 1 Axes>"
      ]
     },
     "metadata": {
      "needs_background": "light"
     },
     "output_type": "display_data"
    }
   ],
   "source": [
    "#x = main['Age']:\n",
    "\n",
    "#add 0.01 in case an observation is equal to zero:\n",
    "x = x + 0.01\n",
    "\n",
    "#Box Cox Transformation helps to normalise the data:\n",
    "xt, maxlog, interval = stats.boxcox(x, alpha = 0.05)\n",
    "\n",
    "#Min-max scaling scales the data between 0 and 1:\n",
    "xt = (xt-xt.mean())/(xt.max()-xt.min())\n",
    "sns.kdeplot(xt, shade=True, label=\"Transformed\");"
   ]
  },
  {
   "cell_type": "code",
   "execution_count": 51,
   "metadata": {},
   "outputs": [
    {
     "data": {
      "image/png": "[encoded data removed]",
      "text/plain": [
       "<Figure size 432x288 with 1 Axes>"
      ]
     },
     "metadata": {
      "needs_background": "light"
     },
     "output_type": "display_data"
    }
   ],
   "source": [
    "#x1 = main['Tenure']:\n",
    "    \n",
    "x1 = x1 + 0.01\n",
    "xt1, maxlog, interval = stats.boxcox(x1, alpha=0.05)\n",
    "xt1 = (xt1-xt1.mean())/(xt1.max()-xt1.min())\n",
    "sns.kdeplot(xt1, shade=True, label=\"Transformed\");"
   ]
  },
  {
   "cell_type": "code",
   "execution_count": 52,
   "metadata": {},
   "outputs": [
    {
     "data": {
      "image/png": "[encoded data removed]",
      "text/plain": [
       "<Figure size 432x288 with 1 Axes>"
      ]
     },
     "metadata": {
      "needs_background": "light"
     },
     "output_type": "display_data"
    }
   ],
   "source": [
    "#x2 = main['ActBal_CA']:\n",
    "\n",
    "x2 = x2 + 0.01\n",
    "xt2, maxlog, interval = stats.boxcox(x2, alpha=0.05)\n",
    "xt2 = (xt2-xt2.mean())/(xt2.max()-xt2.min())\n",
    "sns.kdeplot(xt2, shade=True, label=\"Transformed\");"
   ]
  },
  {
   "cell_type": "code",
   "execution_count": 53,
   "metadata": {},
   "outputs": [
    {
     "data": {
      "image/png": "[encoded data removed]",
      "text/plain": [
       "<Figure size 432x288 with 1 Axes>"
      ]
     },
     "metadata": {
      "needs_background": "light"
     },
     "output_type": "display_data"
    }
   ],
   "source": [
    "#x3 = main['VolumeCred']:\n",
    "    \n",
    "x3 = x3 + 0.01\n",
    "xt3, maxlog, interval = stats.boxcox(x3, alpha=0.05)\n",
    "xt3 = (xt3-xt3.mean())/(xt3.max()-xt3.min())\n",
    "sns.kdeplot(xt3, shade=True, label=\"Transformed\");"
   ]
  },
  {
   "cell_type": "code",
   "execution_count": 54,
   "metadata": {},
   "outputs": [
    {
     "data": {
      "image/png": "[encoded data removed]",
      "text/plain": [
       "<Figure size 432x288 with 1 Axes>"
      ]
     },
     "metadata": {
      "needs_background": "light"
     },
     "output_type": "display_data"
    }
   ],
   "source": [
    "#x4 = main['VolumeDebCashless_Card']:\n",
    "    \n",
    "x4 = x4 + 0.01\n",
    "xt4, maxlog, interval = stats.boxcox(x4, alpha=0.05)\n",
    "xt4 = (xt4-xt4.mean())/(xt4.max()-xt4.min())\n",
    "sns.kdeplot(xt4, shade=True, label=\"Transformed\");"
   ]
  },
  {
   "cell_type": "code",
   "execution_count": 55,
   "metadata": {},
   "outputs": [],
   "source": [
    "#join transformed variables into a new DataFrame:\n",
    "\n",
    "Tmain_ML = pd.DataFrame()\n",
    "Tmain_ML['M'] = main['M']\n",
    "Tmain_ML['F'] = main ['F']\n",
    "Tmain_ML['Age'] = xt\n",
    "Tmain_ML['Tenure'] = xt1\n",
    "Tmain_ML['Count_CA'] = main['Count_CA']\n",
    "Tmain_ML['ActBal_CA'] = xt2\n",
    "Tmain_ML['VolumeCred'] = xt3\n",
    "Tmain_ML['VolumeDebCashless_Card'] = xt4"
   ]
  },
  {
   "cell_type": "code",
   "execution_count": 56,
   "metadata": {},
   "outputs": [
    {
     "data": {
      "text/plain": [
       "Index(['M', 'F', 'Age', 'Tenure', 'Count_CA', 'ActBal_CA', 'VolumeCred',\n",
       "       'VolumeDebCashless_Card'],\n",
       "      dtype='object')"
      ]
     },
     "execution_count": 56,
     "metadata": {},
     "output_type": "execute_result"
    }
   ],
   "source": [
    "Tmain_ML.columns"
   ]
  },
  {
   "cell_type": "markdown",
   "metadata": {},
   "source": [
    "# Solit data into test and train:"
   ]
  },
  {
   "cell_type": "code",
   "execution_count": 57,
   "metadata": {},
   "outputs": [
    {
     "name": "stdout",
     "output_type": "stream",
     "text": [
      "(232, 8)\n",
      "(232, 1)\n"
     ]
    }
   ],
   "source": [
    "#assign the transformed independent variables to X:\n",
    "X = Tmain_ML[['M', 'F', 'Age', 'Tenure', 'Count_CA', 'ActBal_CA', 'VolumeCred',\n",
    "       'VolumeDebCashless_Card']]\n",
    "\n",
    "#assign target variables to y:\n",
    "y = main[['Revenue_CC']]\n",
    "\n",
    "print(X.shape)\n",
    "print(y.shape)"
   ]
  },
  {
   "cell_type": "code",
   "execution_count": 58,
   "metadata": {},
   "outputs": [
    {
     "name": "stdout",
     "output_type": "stream",
     "text": [
      "-0.8059305597632205\n",
      "[[-3.52382983  3.52382983  0.91953056 -6.74622296 -6.85567235 -5.80187267\n",
      "   0.90533649 -2.27348544]]\n",
      "[20.19825145]\n"
     ]
    }
   ],
   "source": [
    "from sklearn.model_selection import train_test_split\n",
    "from sklearn.linear_model import LinearRegression\n",
    "#split data into train and test\n",
    "X_train, X_test, y_train, y_test = train_test_split(X, y, random_state = 0)\n",
    "\n",
    "\n",
    "#fit linear regression to the train data\n",
    "lr = LinearRegression().fit(X_train, y_train)\n",
    "\n",
    "#predict test set results\n",
    "y_test_pred = lr.predict(X_test)\n",
    "\n",
    "#predict accuracy score, coefficients for each independent variable and intercept:\n",
    "print(lr.score(X_test, y_test))\n",
    "print(lr.coef_)\n",
    "print(lr.intercept_)"
   ]
  },
  {
   "cell_type": "code",
   "execution_count": 59,
   "metadata": {},
   "outputs": [],
   "source": [
    "from sklearn.model_selection import cross_val_predict  # For K-Fold Cross Validation\n",
    "from sklearn.metrics import r2_score  # For find accuracy with R2 Score\n",
    "from sklearn.metrics import mean_squared_error  # For MSE\n",
    "from math import sqrt  # For squareroot operation"
   ]
  },
  {
   "cell_type": "markdown",
   "metadata": {},
   "source": [
    "# Multiple Linear Regression"
   ]
  },
  {
   "cell_type": "code",
   "execution_count": 60,
   "metadata": {},
   "outputs": [
    {
     "data": {
      "text/plain": [
       "LinearRegression(copy_X=True, fit_intercept=True, n_jobs=None,\n",
       "         normalize=False)"
      ]
     },
     "execution_count": 60,
     "metadata": {},
     "output_type": "execute_result"
    }
   ],
   "source": [
    "#Time to apply models to our data:\n",
    "from sklearn.linear_model import LinearRegression  # Import Linear Regression model\n",
    "\n",
    "MLR = LinearRegression()  # Create a instance for Linear Regression model\n",
    "MLR.fit(X_train, y_train)  # Fit data to the model\n"
   ]
  },
  {
   "cell_type": "code",
   "execution_count": 61,
   "metadata": {},
   "outputs": [
    {
     "name": "stdout",
     "output_type": "stream",
     "text": [
      "Training Accuracy for MLR Model:  0.012250523470457186\n",
      "Testing Accuracy for MLR Model:  -0.8059305597632205\n",
      "RMSE for Training Data:  39.557332906128515\n",
      "RMSE for Testing Data:  10.790105192229277\n",
      "Accuracy for 10-Fold Cross Predicted MLR Model:  -0.07176687061162412\n"
     ]
    }
   ],
   "source": [
    "# Prediction with training dataset:\n",
    "y_pred_MLR_train = MLR.predict(X_train)\n",
    "\n",
    "# Prediction with testing dataset:\n",
    "y_pred_MLR_test = MLR.predict(X_test)\n",
    "\n",
    "# Find training accuracy for this model:\n",
    "accuracy_MLR_train = r2_score(y_train, y_pred_MLR_train)\n",
    "print(\"Training Accuracy for MLR Model: \", accuracy_MLR_train)\n",
    "\n",
    "# Find testing accuracy for this model:\n",
    "accuracy_MLR_test = r2_score(y_test, y_pred_MLR_test)\n",
    "print(\"Testing Accuracy for MLR Model: \", accuracy_MLR_test)\n",
    "\n",
    "# Find RMSE (root mean square error) for training data:\n",
    "RMSE_MLR_train = sqrt(mean_squared_error(y_train, y_pred_MLR_train))\n",
    "print(\"RMSE for Training Data: \", RMSE_MLR_train)\n",
    "\n",
    "# Find RMSE for testing data:\n",
    "RMSE_MLR_test = sqrt(mean_squared_error(y_test, y_pred_MLR_test))\n",
    "print(\"RMSE for Testing Data: \", RMSE_MLR_test)\n",
    "\n",
    "# Prediction with 10-Fold Cross Validation:\n",
    "y_pred_cv_MLR = cross_val_predict(MLR, X, y, cv=10)\n",
    "\n",
    "# Find accuracy after 10-Fold Cross Validation\n",
    "accuracy_cv_MLR = r2_score(y, y_pred_cv_MLR)\n",
    "print(\"Accuracy for 10-Fold Cross Predicted MLR Model: \", accuracy_cv_MLR)\n"
   ]
  },
  {
   "cell_type": "markdown",
   "metadata": {},
   "source": [
    "# Polynomial Features"
   ]
  },
  {
   "cell_type": "code",
   "execution_count": 62,
   "metadata": {},
   "outputs": [
    {
     "data": {
      "text/plain": [
       "LinearRegression(copy_X=True, fit_intercept=False, n_jobs=None,\n",
       "         normalize=False)"
      ]
     },
     "execution_count": 62,
     "metadata": {},
     "output_type": "execute_result"
    }
   ],
   "source": [
    "from sklearn.preprocessing import PolynomialFeatures\n",
    "\n",
    "polynomial_features = PolynomialFeatures(degree=3)  \n",
    "x_train_poly = polynomial_features.fit_transform(X_train)  # Fit and transform the training data to polynomial\n",
    "x_test_poly = polynomial_features.fit_transform(X_test)  # Fit and transform the testing data to polynomial\n",
    "\n",
    "PR = LinearRegression(fit_intercept=False)  \n",
    "PR.fit(x_train_poly, y_train)  "
   ]
  },
  {
   "cell_type": "code",
   "execution_count": 63,
   "metadata": {},
   "outputs": [
    {
     "name": "stdout",
     "output_type": "stream",
     "text": [
      "Training Accuracy for Polynomial Regression Model:  0.6041766081972277\n",
      "Testing Accuracy for Polynomial Regression Model:  -3.0682036571958175e+20\n",
      "RMSE for Training Data:  25.041153253020283\n",
      "RMSE for Testing Data:  140642716666.39963\n",
      "Accuracy for 10-Fold Cross Predicted Polynomial Regression Model:  -2.998186834116674e+20\n"
     ]
    }
   ],
   "source": [
    "# Prediction with training dataset:\n",
    "y_pred_PR_train = PR.predict(x_train_poly)\n",
    "\n",
    "# Prediction with testing dataset:\n",
    "y_pred_PR_test = PR.predict(x_test_poly)\n",
    "\n",
    "# Find training accuracy for this model:\n",
    "accuracy_PR_train = r2_score(y_train, y_pred_PR_train)\n",
    "print(\"Training Accuracy for Polynomial Regression Model: \", accuracy_PR_train)\n",
    "\n",
    "# Find testing accuracy for this model:\n",
    "accuracy_PR_test = r2_score(y_test, y_pred_PR_test)\n",
    "print(\"Testing Accuracy for Polynomial Regression Model: \", accuracy_PR_test)\n",
    "\n",
    "# Find RMSE for training data:\n",
    "RMSE_PR_train = sqrt(mean_squared_error(y_train, y_pred_PR_train))\n",
    "print(\"RMSE for Training Data: \", RMSE_PR_train)\n",
    "\n",
    "# Find RMSE for testing data:\n",
    "RMSE_PR_test = sqrt(mean_squared_error(y_test, y_pred_PR_test))\n",
    "print(\"RMSE for Testing Data: \", RMSE_PR_test)\n",
    "\n",
    "# Prediction with 10-Fold Cross Validation:\n",
    "y_pred_cv_PR = cross_val_predict(PR, polynomial_features.fit_transform(X), y, cv=10)\n",
    "\n",
    "# Find accuracy after 10-Fold Cross Validation\n",
    "accuracy_cv_PR = r2_score(y, y_pred_cv_PR)\n",
    "print(\"Accuracy for 10-Fold Cross Predicted Polynomial Regression Model: \", accuracy_cv_PR)\n"
   ]
  },
  {
   "cell_type": "code",
   "execution_count": 64,
   "metadata": {},
   "outputs": [],
   "source": [
    "from sklearn.model_selection import cross_val_predict  # For K-Fold Cross Validation\n",
    "from sklearn.metrics import r2_score  # For find accuracy with R2 Score\n",
    "from sklearn.metrics import mean_squared_error  # For MSE\n",
    "from math import sqrt  # For squareroot operation\n"
   ]
  },
  {
   "cell_type": "markdown",
   "metadata": {},
   "source": [
    "# Decision Tree"
   ]
  },
  {
   "cell_type": "code",
   "execution_count": 65,
   "metadata": {},
   "outputs": [
    {
     "data": {
      "text/plain": [
       "DecisionTreeRegressor(criterion='mse', max_depth=None, max_features=None,\n",
       "           max_leaf_nodes=None, min_impurity_decrease=0.0,\n",
       "           min_impurity_split=None, min_samples_leaf=1,\n",
       "           min_samples_split=2, min_weight_fraction_leaf=0.0,\n",
       "           presort=False, random_state=13, splitter='best')"
      ]
     },
     "execution_count": 65,
     "metadata": {},
     "output_type": "execute_result"
    }
   ],
   "source": [
    "from sklearn.tree import DecisionTreeRegressor  \n",
    "\n",
    "DTR = DecisionTreeRegressor( random_state = 13)  \n",
    "DTR.fit(X_train, y_train) "
   ]
  },
  {
   "cell_type": "code",
   "execution_count": 66,
   "metadata": {},
   "outputs": [
    {
     "name": "stdout",
     "output_type": "stream",
     "text": [
      "Best: -2.866774 using {'max_leaf_nodes': 2, 'min_samples_split': 2}\n"
     ]
    }
   ],
   "source": [
    "#Apply GridSearch to find best hyperparameters.\n",
    "\n",
    "from sklearn.model_selection import GridSearchCV\n",
    "param_grid = {\n",
    "        'max_leaf_nodes': list(range(2, 100)), \n",
    "        'min_samples_split': [2, 3, 4]\n",
    "        }\n",
    "\n",
    "#Instantiate GridSearchCV with the required parameters\n",
    "grid_model = GridSearchCV(DTR, param_grid=param_grid)\n",
    "\n",
    "#Fit data to grid_model\n",
    "grid_model_result = grid_model.fit(X_train, y_train)\n",
    "\n",
    "#Summarize results\n",
    "best_params = grid_model_result.best_params_\n",
    "best_score = grid_model_result.best_score_\n",
    "print(\"Best: %f using %s\" % (best_score, best_params))"
   ]
  },
  {
   "cell_type": "code",
   "execution_count": 67,
   "metadata": {},
   "outputs": [
    {
     "data": {
      "text/plain": [
       "DecisionTreeRegressor(criterion='mse', max_depth=3, max_features=None,\n",
       "           max_leaf_nodes=2, min_impurity_decrease=0.0,\n",
       "           min_impurity_split=None, min_samples_leaf=1,\n",
       "           min_samples_split=2, min_weight_fraction_leaf=0.0,\n",
       "           presort=False, random_state=13, splitter='best')"
      ]
     },
     "execution_count": 67,
     "metadata": {},
     "output_type": "execute_result"
    }
   ],
   "source": [
    "DTR = DecisionTreeRegressor( max_depth = 3,max_leaf_nodes = 2, min_samples_split = 2, random_state = 13)  \n",
    "DTR.fit(X_train, y_train)"
   ]
  },
  {
   "cell_type": "code",
   "execution_count": 68,
   "metadata": {},
   "outputs": [
    {
     "name": "stdout",
     "output_type": "stream",
     "text": [
      "Training Accuracy for Decision Tree Regression Model:  0.049063680573513624\n",
      "Testing Accuracy for Decision Tree Regression Model:  -1.946221942531726\n",
      "RMSE for Training Data:  38.81318797596695\n",
      "RMSE for Testing Data:  13.781861617494709\n",
      "Accuracy for 10-Fold Cross Predicted Decision Tree Regression Model:  -0.07473182585225602\n"
     ]
    }
   ],
   "source": [
    "# Prediction with training dataset:\n",
    "y_pred_DTR_train = DTR.predict(X_train)\n",
    "\n",
    "# Prediction with testing dataset:\n",
    "y_pred_DTR_test = DTR.predict(X_test)\n",
    "\n",
    "# Find training accuracy for this model:\n",
    "accuracy_DTR_train = r2_score(y_train, y_pred_DTR_train)\n",
    "print(\"Training Accuracy for Decision Tree Regression Model: \", accuracy_DTR_train)\n",
    "\n",
    "# Find testing accuracy for this model:\n",
    "accuracy_DTR_test = r2_score(y_test, y_pred_DTR_test)\n",
    "print(\"Testing Accuracy for Decision Tree Regression Model: \", accuracy_DTR_test)\n",
    "\n",
    "# Find RMSE for training data:\n",
    "RMSE_DTR_train = sqrt(mean_squared_error(y_train, y_pred_DTR_train))\n",
    "print(\"RMSE for Training Data: \", RMSE_DTR_train)\n",
    "\n",
    "# Find RMSE for testing data:\n",
    "RMSE_DTR_test = sqrt(mean_squared_error(y_test, y_pred_DTR_test))\n",
    "print(\"RMSE for Testing Data: \", RMSE_DTR_test)\n",
    "\n",
    "# Prediction with 10-Fold Cross Validation:\n",
    "y_pred_cv_DTR = cross_val_predict(DTR, X, y, cv=10)\n",
    "\n",
    "# Find accuracy after 10-Fold Cross Validation\n",
    "accuracy_cv_DTR = r2_score(y, y_pred_cv_DTR)\n",
    "print(\"Accuracy for 10-Fold Cross Predicted Decision Tree Regression Model: \", accuracy_cv_DTR)\n"
   ]
  },
  {
   "cell_type": "markdown",
   "metadata": {},
   "source": [
    "# Random Forest"
   ]
  },
  {
   "cell_type": "code",
   "execution_count": 69,
   "metadata": {},
   "outputs": [
    {
     "data": {
      "text/plain": [
       "RandomForestRegressor(bootstrap=True, criterion='mse', max_depth=5,\n",
       "           max_features='sqrt', max_leaf_nodes=None,\n",
       "           min_impurity_decrease=0.0, min_impurity_split=None,\n",
       "           min_samples_leaf=1, min_samples_split=2,\n",
       "           min_weight_fraction_leaf=0.0, n_estimators=1000, n_jobs=None,\n",
       "           oob_score=False, random_state=13, verbose=0, warm_start=False)"
      ]
     },
     "execution_count": 69,
     "metadata": {},
     "output_type": "execute_result"
    }
   ],
   "source": [
    "from sklearn.ensemble import RandomForestRegressor  \n",
    "\n",
    "RFR = RandomForestRegressor(n_estimators=1000, max_depth=5, random_state=13, max_features = 'sqrt')  \n",
    "RFR.fit(X_train, y_train)  "
   ]
  },
  {
   "cell_type": "code",
   "execution_count": 70,
   "metadata": {},
   "outputs": [
    {
     "name": "stdout",
     "output_type": "stream",
     "text": [
      "Best: -0.985809 using {'max_features': 'sqrt', 'n_estimators': 200}\n"
     ]
    }
   ],
   "source": [
    "from sklearn.model_selection import GridSearchCV\n",
    "param_grid = {\n",
    "            'n_estimators': [200, 700, 800, 1000],\n",
    "            'max_features': ['auto', 'sqrt', 'log2']\n",
    "            }\n",
    "\n",
    "#Instantiate GridSearchCV with the required parameters\n",
    "grid_model = GridSearchCV(RFR, param_grid=param_grid)\n",
    "\n",
    "#Fit data to grid_model\n",
    "grid_model_result = grid_model.fit(X_train, y_train)\n",
    "\n",
    "#Summarize results\n",
    "best_params = grid_model_result.best_params_\n",
    "best_score = grid_model_result.best_score_\n",
    "print(\"Best: %f using %s\" % (best_score, best_params))\n"
   ]
  },
  {
   "cell_type": "code",
   "execution_count": 71,
   "metadata": {},
   "outputs": [
    {
     "name": "stdout",
     "output_type": "stream",
     "text": [
      "Training Accuracy for Random Forest Regression Model:  0.7795968989754727\n",
      "Testing Accuracy for Random Forest Regression Model:  -3.615644302218583\n",
      "RMSE for Training Data:  18.685832370015063\n",
      "RMSE for Testing Data:  17.25008826617207\n",
      "Accuracy for 10-Fold Cross Predicted Random Forest Regression Model:  -0.07934085573216243\n"
     ]
    }
   ],
   "source": [
    "# Prediction with training dataset:\n",
    "y_pred_RFR_train = RFR.predict(X_train)\n",
    "\n",
    "# Prediction with testing dataset:\n",
    "y_pred_RFR_test = RFR.predict(X_test)\n",
    "\n",
    "# Find training accuracy for this model:\n",
    "accuracy_RFR_train = r2_score(y_train, y_pred_RFR_train)\n",
    "print(\"Training Accuracy for Random Forest Regression Model: \", accuracy_RFR_train)\n",
    "\n",
    "# Find testing accuracy for this model:\n",
    "accuracy_RFR_test = r2_score(y_test, y_pred_RFR_test)\n",
    "print(\"Testing Accuracy for Random Forest Regression Model: \", accuracy_RFR_test)\n",
    "\n",
    "# Find RMSE for training data:\n",
    "RMSE_RFR_train = sqrt(mean_squared_error(y_train, y_pred_RFR_train))\n",
    "print(\"RMSE for Training Data: \", RMSE_RFR_train)\n",
    "\n",
    "# Find RMSE for testing data:\n",
    "RMSE_RFR_test = sqrt(mean_squared_error(y_test, y_pred_RFR_test))\n",
    "print(\"RMSE for Testing Data: \", RMSE_RFR_test)\n",
    "\n",
    "# Prediction with 10-Fold Cross Validation:\n",
    "y_pred_cv_RFR = cross_val_predict(RFR, X, y, cv=10)\n",
    "\n",
    "# Find accuracy after 10-Fold Cross Validation\n",
    "accuracy_cv_RFR = r2_score(y, y_pred_cv_RFR)\n",
    "print(\"Accuracy for 10-Fold Cross Predicted Random Forest Regression Model: \", accuracy_cv_RFR)\n"
   ]
  },
  {
   "cell_type": "code",
   "execution_count": 72,
   "metadata": {},
   "outputs": [
    {
     "data": {
      "text/html": [
       "<div>\n",
       "<style scoped>\n",
       "    .dataframe tbody tr th:only-of-type {\n",
       "        vertical-align: middle;\n",
       "    }\n",
       "\n",
       "    .dataframe tbody tr th {\n",
       "        vertical-align: top;\n",
       "    }\n",
       "\n",
       "    .dataframe thead th {\n",
       "        text-align: right;\n",
       "    }\n",
       "</style>\n",
       "<table border=\"1\" class=\"dataframe\">\n",
       "  <thead>\n",
       "    <tr style=\"text-align: right;\">\n",
       "      <th></th>\n",
       "      <th>Parameters</th>\n",
       "      <th>Training Accuracy</th>\n",
       "      <th>Testing Accuracy</th>\n",
       "      <th>Training RMSE</th>\n",
       "      <th>Testing RMSE</th>\n",
       "      <th>10-Fold Score</th>\n",
       "    </tr>\n",
       "  </thead>\n",
       "  <tbody>\n",
       "    <tr>\n",
       "      <th>Multiple Linear Regression</th>\n",
       "      <td>fit_intercept=False</td>\n",
       "      <td>0.012251</td>\n",
       "      <td>-8.059306e-01</td>\n",
       "      <td>39.557333</td>\n",
       "      <td>1.079011e+01</td>\n",
       "      <td>-7.176687e-02</td>\n",
       "    </tr>\n",
       "    <tr>\n",
       "      <th>Polynomial Regression</th>\n",
       "      <td>fit_intercept=False</td>\n",
       "      <td>0.604177</td>\n",
       "      <td>-3.068204e+20</td>\n",
       "      <td>25.041153</td>\n",
       "      <td>1.406427e+11</td>\n",
       "      <td>-2.998187e+20</td>\n",
       "    </tr>\n",
       "    <tr>\n",
       "      <th>Decision Tree Regression</th>\n",
       "      <td>max_depth=5</td>\n",
       "      <td>0.049064</td>\n",
       "      <td>-1.946222e+00</td>\n",
       "      <td>38.813188</td>\n",
       "      <td>1.378186e+01</td>\n",
       "      <td>-7.473183e-02</td>\n",
       "    </tr>\n",
       "    <tr>\n",
       "      <th>Random Forest Regression</th>\n",
       "      <td>n_estimators=400, max_depth=5</td>\n",
       "      <td>0.779597</td>\n",
       "      <td>-3.615644e+00</td>\n",
       "      <td>18.685832</td>\n",
       "      <td>1.725009e+01</td>\n",
       "      <td>-7.934086e-02</td>\n",
       "    </tr>\n",
       "  </tbody>\n",
       "</table>\n",
       "</div>"
      ],
      "text/plain": [
       "                                               Parameters  Training Accuracy  \\\n",
       "Multiple Linear Regression            fit_intercept=False           0.012251   \n",
       "Polynomial Regression                 fit_intercept=False           0.604177   \n",
       "Decision Tree Regression                      max_depth=5           0.049064   \n",
       "Random Forest Regression    n_estimators=400, max_depth=5           0.779597   \n",
       "\n",
       "                            Testing Accuracy  Training RMSE  Testing RMSE  \\\n",
       "Multiple Linear Regression     -8.059306e-01      39.557333  1.079011e+01   \n",
       "Polynomial Regression          -3.068204e+20      25.041153  1.406427e+11   \n",
       "Decision Tree Regression       -1.946222e+00      38.813188  1.378186e+01   \n",
       "Random Forest Regression       -3.615644e+00      18.685832  1.725009e+01   \n",
       "\n",
       "                            10-Fold Score  \n",
       "Multiple Linear Regression  -7.176687e-02  \n",
       "Polynomial Regression       -2.998187e+20  \n",
       "Decision Tree Regression    -7.473183e-02  \n",
       "Random Forest Regression    -7.934086e-02  "
      ]
     },
     "execution_count": 72,
     "metadata": {},
     "output_type": "execute_result"
    }
   ],
   "source": [
    "#Compare all results in one table\n",
    "training_accuracies = [accuracy_MLR_train, accuracy_PR_train, accuracy_DTR_train, accuracy_RFR_train]\n",
    "testing_accuracies = [accuracy_MLR_test, accuracy_PR_test, accuracy_DTR_test, accuracy_RFR_test]\n",
    "training_RMSE = [RMSE_MLR_train, RMSE_PR_train, RMSE_DTR_train, RMSE_RFR_train]\n",
    "testing_RMSE = [RMSE_MLR_test, RMSE_PR_test, RMSE_DTR_test, RMSE_RFR_test]\n",
    "cv_accuracies = [accuracy_cv_MLR, accuracy_cv_PR, accuracy_cv_DTR, accuracy_cv_RFR]\n",
    "\n",
    "parameters = [\"fit_intercept=False\", \"fit_intercept=False\", \"max_depth=5\", \"n_estimators=400, max_depth=5\"]\n",
    "\n",
    "table_data = {\"Parameters\": parameters, \"Training Accuracy\": training_accuracies, \"Testing Accuracy\": testing_accuracies, \n",
    "              \"Training RMSE\": training_RMSE, \"Testing RMSE\": testing_RMSE, \"10-Fold Score\": cv_accuracies}\n",
    "model_names = [\"Multiple Linear Regression\", \"Polynomial Regression\", \"Decision Tree Regression\", \"Random Forest Regression\"]\n",
    "\n",
    "table_dataframe = pd.DataFrame(data=table_data, index=model_names)\n",
    "table_dataframe"
   ]
  },
  {
   "cell_type": "markdown",
   "metadata": {},
   "source": [
    "# Prepare data set for prediction the same way we prepared train set:"
   ]
  },
  {
   "cell_type": "code",
   "execution_count": 73,
   "metadata": {},
   "outputs": [
    {
     "data": {
      "text/plain": [
       "(646, 37)"
      ]
     },
     "execution_count": 73,
     "metadata": {},
     "output_type": "execute_result"
    }
   ],
   "source": [
    "#First, impute the 2 missing Sex variables with the most common category\n",
    "predict['Sex'].fillna(predict['Sex'].value_counts().index[0], inplace=True)\n",
    "\n",
    "#Second, replace all the NaN values with zero values\n",
    "predict = predict.replace(np.nan, 0)\n",
    "\n",
    "#Now we need to replace categories with dummy variables.\n",
    "#create dummy variables for Sex feature\n",
    "sex_dummies = pd.get_dummies(predict['Sex'])\n",
    "predict = pd.concat([sex_dummies, predict], axis = 1)\n",
    "\n",
    "# Get observations for which column Age has value lower than 18\n",
    "#under18 = predict[predict['Age'] < 18].index\n",
    "\n",
    "# Delete these rows from dataFrame\n",
    "#predict = predict.drop(under18)\n",
    "predict.shape\n"
   ]
  },
  {
   "cell_type": "code",
   "execution_count": 74,
   "metadata": {},
   "outputs": [],
   "source": [
    "predict = predict[[ 'M', 'F', 'Age', 'Tenure', 'Count_CA', 'ActBal_CA', 'VolumeCred',\n",
    "       'VolumeDebCashless_Card']]"
   ]
  },
  {
   "cell_type": "code",
   "execution_count": 75,
   "metadata": {},
   "outputs": [
    {
     "data": {
      "text/html": [
       "<div>\n",
       "<style scoped>\n",
       "    .dataframe tbody tr th:only-of-type {\n",
       "        vertical-align: middle;\n",
       "    }\n",
       "\n",
       "    .dataframe tbody tr th {\n",
       "        vertical-align: top;\n",
       "    }\n",
       "\n",
       "    .dataframe thead th {\n",
       "        text-align: right;\n",
       "    }\n",
       "</style>\n",
       "<table border=\"1\" class=\"dataframe\">\n",
       "  <thead>\n",
       "    <tr style=\"text-align: right;\">\n",
       "      <th></th>\n",
       "      <th>M</th>\n",
       "      <th>F</th>\n",
       "      <th>Age</th>\n",
       "      <th>Tenure</th>\n",
       "      <th>Count_CA</th>\n",
       "      <th>ActBal_CA</th>\n",
       "      <th>VolumeCred</th>\n",
       "      <th>VolumeDebCashless_Card</th>\n",
       "    </tr>\n",
       "  </thead>\n",
       "  <tbody>\n",
       "    <tr>\n",
       "      <th>0</th>\n",
       "      <td>0</td>\n",
       "      <td>1</td>\n",
       "      <td>54</td>\n",
       "      <td>150</td>\n",
       "      <td>1</td>\n",
       "      <td>422.614286</td>\n",
       "      <td>282.144643</td>\n",
       "      <td>0.0</td>\n",
       "    </tr>\n",
       "    <tr>\n",
       "      <th>1</th>\n",
       "      <td>1</td>\n",
       "      <td>0</td>\n",
       "      <td>63</td>\n",
       "      <td>20</td>\n",
       "      <td>1</td>\n",
       "      <td>736.766071</td>\n",
       "      <td>833.285000</td>\n",
       "      <td>0.0</td>\n",
       "    </tr>\n",
       "    <tr>\n",
       "      <th>2</th>\n",
       "      <td>0</td>\n",
       "      <td>1</td>\n",
       "      <td>37</td>\n",
       "      <td>151</td>\n",
       "      <td>1</td>\n",
       "      <td>1409.805000</td>\n",
       "      <td>1778.666429</td>\n",
       "      <td>0.0</td>\n",
       "    </tr>\n",
       "    <tr>\n",
       "      <th>3</th>\n",
       "      <td>1</td>\n",
       "      <td>0</td>\n",
       "      <td>59</td>\n",
       "      <td>39</td>\n",
       "      <td>1</td>\n",
       "      <td>383.258571</td>\n",
       "      <td>1217.872857</td>\n",
       "      <td>0.0</td>\n",
       "    </tr>\n",
       "    <tr>\n",
       "      <th>4</th>\n",
       "      <td>0</td>\n",
       "      <td>1</td>\n",
       "      <td>41</td>\n",
       "      <td>85</td>\n",
       "      <td>2</td>\n",
       "      <td>47767.963571</td>\n",
       "      <td>1.578929</td>\n",
       "      <td>0.0</td>\n",
       "    </tr>\n",
       "  </tbody>\n",
       "</table>\n",
       "</div>"
      ],
      "text/plain": [
       "   M  F  Age  Tenure  Count_CA     ActBal_CA   VolumeCred  \\\n",
       "0  0  1   54     150         1    422.614286   282.144643   \n",
       "1  1  0   63      20         1    736.766071   833.285000   \n",
       "2  0  1   37     151         1   1409.805000  1778.666429   \n",
       "3  1  0   59      39         1    383.258571  1217.872857   \n",
       "4  0  1   41      85         2  47767.963571     1.578929   \n",
       "\n",
       "   VolumeDebCashless_Card  \n",
       "0                     0.0  \n",
       "1                     0.0  \n",
       "2                     0.0  \n",
       "3                     0.0  \n",
       "4                     0.0  "
      ]
     },
     "execution_count": 75,
     "metadata": {},
     "output_type": "execute_result"
    }
   ],
   "source": [
    "#Upload the dataset of people from classification problem (most likely to accept MF offer).\n",
    "contact_CC = pd.read_csv('~/Desktop/contact_CC1.csv')\n",
    "contact_1_CC = contact_CC [['M', 'F', 'Age', 'Tenure', 'Count_CA', 'ActBal_CA', 'VolumeCred',\n",
    "       'VolumeDebCashless_Card']]\n",
    "contact_1_CC.head()"
   ]
  },
  {
   "cell_type": "code",
   "execution_count": 76,
   "metadata": {},
   "outputs": [],
   "source": [
    "contact_2_CC = contact_CC [['Client', 'Label_CC', 'Probability']]"
   ]
  },
  {
   "cell_type": "code",
   "execution_count": 77,
   "metadata": {},
   "outputs": [],
   "source": [
    "#scale and normalise features:\n",
    "a1 = contact_1_CC['Age']\n",
    "a2 = contact_1_CC['Tenure']\n",
    "a3 = contact_1_CC['ActBal_CA']\n",
    "a4 = contact_1_CC['VolumeCred']\n",
    "a5 = contact_1_CC['VolumeDebCashless_Card']"
   ]
  },
  {
   "cell_type": "code",
   "execution_count": 78,
   "metadata": {},
   "outputs": [
    {
     "data": {
      "image/png": "[encoded data removed]",
      "text/plain": [
       "<Figure size 432x288 with 1 Axes>"
      ]
     },
     "metadata": {
      "needs_background": "light"
     },
     "output_type": "display_data"
    }
   ],
   "source": [
    "a1 = a1 + 0.01\n",
    "at1, maxlog, interval = stats.boxcox(a1, alpha=0.05)\n",
    "at1 = (at1-at1.mean())/(at1.max()-at1.min())\n",
    "sns.kdeplot(at1, shade=True, label=\"Transformed\");"
   ]
  },
  {
   "cell_type": "code",
   "execution_count": 79,
   "metadata": {},
   "outputs": [
    {
     "data": {
      "image/png": "[encoded data removed]",
      "text/plain": [
       "<Figure size 432x288 with 1 Axes>"
      ]
     },
     "metadata": {
      "needs_background": "light"
     },
     "output_type": "display_data"
    }
   ],
   "source": [
    "a2 = a2 + 0.01\n",
    "at2, maxlog, interval = stats.boxcox(a2, alpha=0.05)\n",
    "at2 = (at2-at2.mean())/(at2.max()-at2.min())\n",
    "sns.kdeplot(at2, shade=True, label=\"Transformed\");"
   ]
  },
  {
   "cell_type": "code",
   "execution_count": 80,
   "metadata": {},
   "outputs": [
    {
     "data": {
      "image/png": "[encoded data removed]",
      "text/plain": [
       "<Figure size 432x288 with 1 Axes>"
      ]
     },
     "metadata": {
      "needs_background": "light"
     },
     "output_type": "display_data"
    }
   ],
   "source": [
    "a3 = a3 + 0.01\n",
    "at3, maxlog, interval = stats.boxcox(a3, alpha=0.05)\n",
    "at3 = (at3-at3.mean())/(at3.max()-at3.min())\n",
    "sns.kdeplot(at3, shade=True, label=\"Transformed\");"
   ]
  },
  {
   "cell_type": "code",
   "execution_count": 81,
   "metadata": {},
   "outputs": [
    {
     "data": {
      "image/png": "[encoded data removed]",
      "text/plain": [
       "<Figure size 432x288 with 1 Axes>"
      ]
     },
     "metadata": {
      "needs_background": "light"
     },
     "output_type": "display_data"
    }
   ],
   "source": [
    "a4 = a4 + 0.01\n",
    "at4, maxlog, interval = stats.boxcox(a4, alpha=0.05)\n",
    "at4 = (at4-at4.mean())/(at4.max()-at4.min())\n",
    "sns.kdeplot(at4, shade=True, label=\"Transformed\");"
   ]
  },
  {
   "cell_type": "code",
   "execution_count": 82,
   "metadata": {},
   "outputs": [
    {
     "data": {
      "image/png": "[encoded data removed]",
      "text/plain": [
       "<Figure size 432x288 with 1 Axes>"
      ]
     },
     "metadata": {
      "needs_background": "light"
     },
     "output_type": "display_data"
    }
   ],
   "source": [
    "a5 = a5 + 0.01\n",
    "at5, maxlog, interval = stats.boxcox(a5, alpha=0.05)\n",
    "at5 = (at5-at5.mean())/(at5.max()-at5.min())\n",
    "sns.kdeplot(at5, shade=True, label='Transformed');"
   ]
  },
  {
   "cell_type": "code",
   "execution_count": 83,
   "metadata": {},
   "outputs": [],
   "source": [
    "#join transformed features into a DataFrame:\n",
    "Predict_CC = pd.DataFrame()\n",
    "Predict_CC['M'] = contact_CC['M']\n",
    "Predict_CC['F'] = contact_CC['F']\n",
    "Predict_CC['Age'] = at1\n",
    "Predict_CC['Tenure'] = at2\n",
    "Predict_CC['Count_CA'] = contact_CC['Count_CA']\n",
    "Predict_CC['ActBal_CA']= at3\n",
    "Predict_CC['VolumeCred']= at4\n",
    "Predict_CC['VolumeDebCashless_Card'] = at5"
   ]
  },
  {
   "cell_type": "markdown",
   "metadata": {},
   "source": [
    "# Predict possible revenue for previously identified customers:"
   ]
  },
  {
   "cell_type": "code",
   "execution_count": 84,
   "metadata": {},
   "outputs": [
    {
     "data": {
      "text/html": [
       "<div>\n",
       "<style scoped>\n",
       "    .dataframe tbody tr th:only-of-type {\n",
       "        vertical-align: middle;\n",
       "    }\n",
       "\n",
       "    .dataframe tbody tr th {\n",
       "        vertical-align: top;\n",
       "    }\n",
       "\n",
       "    .dataframe thead th {\n",
       "        text-align: right;\n",
       "    }\n",
       "</style>\n",
       "<table border=\"1\" class=\"dataframe\">\n",
       "  <thead>\n",
       "    <tr style=\"text-align: right;\">\n",
       "      <th></th>\n",
       "      <th>0</th>\n",
       "    </tr>\n",
       "  </thead>\n",
       "  <tbody>\n",
       "    <tr>\n",
       "      <th>0</th>\n",
       "      <td>6.810498</td>\n",
       "    </tr>\n",
       "    <tr>\n",
       "      <th>1</th>\n",
       "      <td>7.609753</td>\n",
       "    </tr>\n",
       "    <tr>\n",
       "      <th>2</th>\n",
       "      <td>9.525382</td>\n",
       "    </tr>\n",
       "    <tr>\n",
       "      <th>3</th>\n",
       "      <td>8.216887</td>\n",
       "    </tr>\n",
       "    <tr>\n",
       "      <th>4</th>\n",
       "      <td>7.025847</td>\n",
       "    </tr>\n",
       "  </tbody>\n",
       "</table>\n",
       "</div>"
      ],
      "text/plain": [
       "          0\n",
       "0  6.810498\n",
       "1  7.609753\n",
       "2  9.525382\n",
       "3  8.216887\n",
       "4  7.025847"
      ]
     },
     "execution_count": 84,
     "metadata": {},
     "output_type": "execute_result"
    }
   ],
   "source": [
    "#predict possible revenue (apply Random Forst Regressor):\n",
    "\n",
    "predict_CC = pd.DataFrame(RFR.predict(Predict_CC))\n",
    "predict_CC.head()"
   ]
  },
  {
   "cell_type": "code",
   "execution_count": 85,
   "metadata": {},
   "outputs": [],
   "source": [
    "merge_CC = pd.merge(contact_2_CC, predict_CC, left_index=True, right_index=True)"
   ]
  },
  {
   "cell_type": "code",
   "execution_count": 86,
   "metadata": {},
   "outputs": [
    {
     "data": {
      "text/html": [
       "<div>\n",
       "<style scoped>\n",
       "    .dataframe tbody tr th:only-of-type {\n",
       "        vertical-align: middle;\n",
       "    }\n",
       "\n",
       "    .dataframe tbody tr th {\n",
       "        vertical-align: top;\n",
       "    }\n",
       "\n",
       "    .dataframe thead th {\n",
       "        text-align: right;\n",
       "    }\n",
       "</style>\n",
       "<table border=\"1\" class=\"dataframe\">\n",
       "  <thead>\n",
       "    <tr style=\"text-align: right;\">\n",
       "      <th></th>\n",
       "      <th>Client</th>\n",
       "      <th>Lable_CC</th>\n",
       "      <th>Probability</th>\n",
       "      <th>Pred_Revenue</th>\n",
       "    </tr>\n",
       "  </thead>\n",
       "  <tbody>\n",
       "    <tr>\n",
       "      <th>0</th>\n",
       "      <td>1138</td>\n",
       "      <td>1</td>\n",
       "      <td>0.954286</td>\n",
       "      <td>6.810498</td>\n",
       "    </tr>\n",
       "    <tr>\n",
       "      <th>1</th>\n",
       "      <td>74</td>\n",
       "      <td>1</td>\n",
       "      <td>0.865714</td>\n",
       "      <td>7.609753</td>\n",
       "    </tr>\n",
       "    <tr>\n",
       "      <th>2</th>\n",
       "      <td>797</td>\n",
       "      <td>1</td>\n",
       "      <td>0.841429</td>\n",
       "      <td>9.525382</td>\n",
       "    </tr>\n",
       "    <tr>\n",
       "      <th>3</th>\n",
       "      <td>369</td>\n",
       "      <td>1</td>\n",
       "      <td>0.821429</td>\n",
       "      <td>8.216887</td>\n",
       "    </tr>\n",
       "    <tr>\n",
       "      <th>4</th>\n",
       "      <td>1410</td>\n",
       "      <td>1</td>\n",
       "      <td>0.815714</td>\n",
       "      <td>7.025847</td>\n",
       "    </tr>\n",
       "    <tr>\n",
       "      <th>5</th>\n",
       "      <td>813</td>\n",
       "      <td>1</td>\n",
       "      <td>0.811429</td>\n",
       "      <td>6.191623</td>\n",
       "    </tr>\n",
       "    <tr>\n",
       "      <th>6</th>\n",
       "      <td>769</td>\n",
       "      <td>1</td>\n",
       "      <td>0.798571</td>\n",
       "      <td>10.586318</td>\n",
       "    </tr>\n",
       "    <tr>\n",
       "      <th>7</th>\n",
       "      <td>994</td>\n",
       "      <td>1</td>\n",
       "      <td>0.791429</td>\n",
       "      <td>6.831917</td>\n",
       "    </tr>\n",
       "    <tr>\n",
       "      <th>8</th>\n",
       "      <td>423</td>\n",
       "      <td>1</td>\n",
       "      <td>0.785714</td>\n",
       "      <td>8.011123</td>\n",
       "    </tr>\n",
       "    <tr>\n",
       "      <th>9</th>\n",
       "      <td>1150</td>\n",
       "      <td>1</td>\n",
       "      <td>0.785714</td>\n",
       "      <td>16.159459</td>\n",
       "    </tr>\n",
       "  </tbody>\n",
       "</table>\n",
       "</div>"
      ],
      "text/plain": [
       "   Client  Lable_CC  Probability  Pred_Revenue\n",
       "0    1138         1     0.954286      6.810498\n",
       "1      74         1     0.865714      7.609753\n",
       "2     797         1     0.841429      9.525382\n",
       "3     369         1     0.821429      8.216887\n",
       "4    1410         1     0.815714      7.025847\n",
       "5     813         1     0.811429      6.191623\n",
       "6     769         1     0.798571     10.586318\n",
       "7     994         1     0.791429      6.831917\n",
       "8     423         1     0.785714      8.011123\n",
       "9    1150         1     0.785714     16.159459"
      ]
     },
     "execution_count": 86,
     "metadata": {},
     "output_type": "execute_result"
    }
   ],
   "source": [
    "#merge probabilita score and predicted revenue for each identified client:\n",
    "\n",
    "merge_CC.columns = ['Client', 'Lable_CC', 'Probability', 'Pred_Revenue']\n",
    "merge_CC.head(10)"
   ]
  },
  {
   "cell_type": "code",
   "execution_count": 87,
   "metadata": {},
   "outputs": [],
   "source": [
    "revenue_CC = merge_CC.to_csv('~/Desktop/revenue_CC.csv')"
   ]
  },
  {
   "cell_type": "code",
   "execution_count": 88,
   "metadata": {},
   "outputs": [],
   "source": [
    "#Apply the same procedure to predict revenue for identified customers for CC (Credit card) and CL (Customer loan)"
   ]
  },
  {
   "cell_type": "code",
   "execution_count": null,
   "metadata": {},
   "outputs": [],
   "source": []
  }
 ],
 "metadata": {
  "kernelspec": {
   "display_name": "Python 3",
   "language": "python",
   "name": "python3"
  },
  "language_info": {
   "codemirror_mode": {
    "name": "ipython",
    "version": 3
   },
   "file_extension": ".py",
   "mimetype": "text/x-python",
   "name": "python",
   "nbconvert_exporter": "python",
   "pygments_lexer": "ipython3",
   "version": "3.7.1"
  }
 },
 "nbformat": 4,
 "nbformat_minor": 2
}
