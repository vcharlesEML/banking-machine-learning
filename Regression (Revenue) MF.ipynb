{
 "cells": [
  {
   "cell_type": "markdown",
   "metadata": {},
   "source": [
    "# Let's start with imporing the necessary libraries:"
   ]
  },
  {
   "cell_type": "code",
   "execution_count": 89,
   "metadata": {},
   "outputs": [],
   "source": [
    "#import necessary libraries\n",
    "import pandas as pd\n",
    "import numpy as np\n",
    "import seaborn as sns\n",
    "from scipy import stats\n",
    "import numpy as np\n",
    "import matplotlib.pyplot as plt\n",
    "import os\n",
    "from sklearn.model_selection import train_test_split\n",
    "from imblearn.over_sampling import SMOTE\n",
    "get_ipython().run_line_magic('matplotlib', 'inline')\n",
    "\n",
    "import warnings\n",
    "warnings.filterwarnings(\"ignore\")\n",
    "\n",
    "#use the following commands if some of the modules are not installed:\n",
    "#conda install joblib\n",
    "#conda install -c conda-forge imbalanced-learn"
   ]
  },
  {
   "cell_type": "markdown",
   "metadata": {},
   "source": [
    "# Split the data into two: 60% of clients for who we know the outcome and 40% of clients that we are going to use for making predictions:"
   ]
  },
  {
   "cell_type": "code",
   "execution_count": 90,
   "metadata": {},
   "outputs": [
    {
     "name": "stdout",
     "output_type": "stream",
     "text": [
      "(969, 35)\n",
      "(646, 35)\n"
     ]
    }
   ],
   "source": [
    "#import data from the file\n",
    "Soc_Dem = pd.read_excel('~/Desktop/DMML_Project_Dataset.xlsx', sheet_name=\"Soc_Dem\")\n",
    "Act_Prod = pd.read_excel('~/Desktop/DMML_Project_Dataset.xlsx', sheet_name=\"Products_ActBalance\")\n",
    "Flow = pd.read_excel('~/Desktop/DMML_Project_Dataset.xlsx', sheet_name=\"Inflow_Outflow\")\n",
    "Sales_Rev = pd.read_excel('~/Desktop/DMML_Project_Dataset.xlsx', sheet_name=\"Sales_Revenues\")\n",
    "\n",
    "#join the tables\n",
    "Soc_Dem = Soc_Dem.sort_values(by=['Client'])\n",
    "Act_Prod = Act_Prod.sort_values(by=['Client'])\n",
    "Flow = Flow.sort_values(by=['Client'])\n",
    "Sales_Rev = Sales_Rev.sort_values(by=['Client'])\n",
    "\n",
    "merge_1 = pd.merge(Soc_Dem, Act_Prod, how='left', on=['Client'])\n",
    "merge_2 = pd.merge(merge_1, Flow, how='left', on=['Client'])\n",
    "final = pd.merge(merge_2, Sales_Rev, how='left', on=['Client'])\n",
    "\n",
    "#create a set for 60% of clients in the dataset which will be used for training models (we know outcome for these clients)\n",
    "main_right = pd.merge(Flow, Sales_Rev, how='right', on=['Client'])\n",
    "main = pd.merge (merge_1, main_right, how = 'right', on = ['Client'])\n",
    "\n",
    "#create a set for 40% of clients in the dataset which will be used for predicting 100 customers\n",
    "predict = pd.concat([final,main],ignore_index=True)\n",
    "predict = predict.drop_duplicates(subset='Client',keep=False)\n",
    "\n",
    "#set Client column as an index:\n",
    "main.set_index('Client', inplace=True)\n",
    "predict.set_index('Client', inplace=True)\n",
    "\n",
    "print(main.shape)\n",
    "print(predict.shape) #we set aside this DF"
   ]
  },
  {
   "cell_type": "markdown",
   "metadata": {},
   "source": [
    "# Data preparation for future modelling. Handling missing values and dealing with categorical values."
   ]
  },
  {
   "cell_type": "code",
   "execution_count": 91,
   "metadata": {},
   "outputs": [
    {
     "data": {
      "text/html": [
       "<div>\n",
       "<style scoped>\n",
       "    .dataframe tbody tr th:only-of-type {\n",
       "        vertical-align: middle;\n",
       "    }\n",
       "\n",
       "    .dataframe tbody tr th {\n",
       "        vertical-align: top;\n",
       "    }\n",
       "\n",
       "    .dataframe thead th {\n",
       "        text-align: right;\n",
       "    }\n",
       "</style>\n",
       "<table border=\"1\" class=\"dataframe\">\n",
       "  <thead>\n",
       "    <tr style=\"text-align: right;\">\n",
       "      <th></th>\n",
       "      <th>F</th>\n",
       "      <th>M</th>\n",
       "      <th>Sex</th>\n",
       "      <th>Age</th>\n",
       "      <th>Tenure</th>\n",
       "      <th>Count_CA</th>\n",
       "      <th>Count_SA</th>\n",
       "      <th>Count_MF</th>\n",
       "      <th>Count_OVD</th>\n",
       "      <th>Count_CC</th>\n",
       "      <th>...</th>\n",
       "      <th>TransactionsDeb_CA</th>\n",
       "      <th>TransactionsDebCash_Card</th>\n",
       "      <th>TransactionsDebCashless_Card</th>\n",
       "      <th>TransactionsDeb_PaymentOrder</th>\n",
       "      <th>Sale_MF</th>\n",
       "      <th>Sale_CC</th>\n",
       "      <th>Sale_CL</th>\n",
       "      <th>Revenue_MF</th>\n",
       "      <th>Revenue_CC</th>\n",
       "      <th>Revenue_CL</th>\n",
       "    </tr>\n",
       "    <tr>\n",
       "      <th>Client</th>\n",
       "      <th></th>\n",
       "      <th></th>\n",
       "      <th></th>\n",
       "      <th></th>\n",
       "      <th></th>\n",
       "      <th></th>\n",
       "      <th></th>\n",
       "      <th></th>\n",
       "      <th></th>\n",
       "      <th></th>\n",
       "      <th></th>\n",
       "      <th></th>\n",
       "      <th></th>\n",
       "      <th></th>\n",
       "      <th></th>\n",
       "      <th></th>\n",
       "      <th></th>\n",
       "      <th></th>\n",
       "      <th></th>\n",
       "      <th></th>\n",
       "      <th></th>\n",
       "    </tr>\n",
       "  </thead>\n",
       "  <tbody>\n",
       "    <tr>\n",
       "      <th>1</th>\n",
       "      <td>1</td>\n",
       "      <td>0</td>\n",
       "      <td>F</td>\n",
       "      <td>51</td>\n",
       "      <td>7</td>\n",
       "      <td>1</td>\n",
       "      <td>0.0</td>\n",
       "      <td>0.0</td>\n",
       "      <td>1.0</td>\n",
       "      <td>0.0</td>\n",
       "      <td>...</td>\n",
       "      <td>30.0</td>\n",
       "      <td>3.0</td>\n",
       "      <td>12.0</td>\n",
       "      <td>9.0</td>\n",
       "      <td>1</td>\n",
       "      <td>0</td>\n",
       "      <td>0</td>\n",
       "      <td>26.972679</td>\n",
       "      <td>0.0</td>\n",
       "      <td>0.0</td>\n",
       "    </tr>\n",
       "    <tr>\n",
       "      <th>27</th>\n",
       "      <td>0</td>\n",
       "      <td>1</td>\n",
       "      <td>M</td>\n",
       "      <td>62</td>\n",
       "      <td>181</td>\n",
       "      <td>1</td>\n",
       "      <td>0.0</td>\n",
       "      <td>0.0</td>\n",
       "      <td>1.0</td>\n",
       "      <td>0.0</td>\n",
       "      <td>...</td>\n",
       "      <td>1.0</td>\n",
       "      <td>0.0</td>\n",
       "      <td>0.0</td>\n",
       "      <td>0.0</td>\n",
       "      <td>1</td>\n",
       "      <td>0</td>\n",
       "      <td>0</td>\n",
       "      <td>220.488214</td>\n",
       "      <td>0.0</td>\n",
       "      <td>0.0</td>\n",
       "    </tr>\n",
       "    <tr>\n",
       "      <th>34</th>\n",
       "      <td>1</td>\n",
       "      <td>0</td>\n",
       "      <td>F</td>\n",
       "      <td>48</td>\n",
       "      <td>104</td>\n",
       "      <td>1</td>\n",
       "      <td>1.0</td>\n",
       "      <td>3.0</td>\n",
       "      <td>1.0</td>\n",
       "      <td>1.0</td>\n",
       "      <td>...</td>\n",
       "      <td>19.0</td>\n",
       "      <td>6.0</td>\n",
       "      <td>33.0</td>\n",
       "      <td>11.0</td>\n",
       "      <td>1</td>\n",
       "      <td>0</td>\n",
       "      <td>0</td>\n",
       "      <td>0.601071</td>\n",
       "      <td>0.0</td>\n",
       "      <td>0.0</td>\n",
       "    </tr>\n",
       "    <tr>\n",
       "      <th>36</th>\n",
       "      <td>1</td>\n",
       "      <td>0</td>\n",
       "      <td>F</td>\n",
       "      <td>49</td>\n",
       "      <td>263</td>\n",
       "      <td>1</td>\n",
       "      <td>1.0</td>\n",
       "      <td>2.0</td>\n",
       "      <td>0.0</td>\n",
       "      <td>0.0</td>\n",
       "      <td>...</td>\n",
       "      <td>0.0</td>\n",
       "      <td>0.0</td>\n",
       "      <td>0.0</td>\n",
       "      <td>0.0</td>\n",
       "      <td>1</td>\n",
       "      <td>0</td>\n",
       "      <td>0</td>\n",
       "      <td>0.238036</td>\n",
       "      <td>0.0</td>\n",
       "      <td>0.0</td>\n",
       "    </tr>\n",
       "    <tr>\n",
       "      <th>42</th>\n",
       "      <td>0</td>\n",
       "      <td>1</td>\n",
       "      <td>M</td>\n",
       "      <td>23</td>\n",
       "      <td>4</td>\n",
       "      <td>1</td>\n",
       "      <td>0.0</td>\n",
       "      <td>12.0</td>\n",
       "      <td>0.0</td>\n",
       "      <td>0.0</td>\n",
       "      <td>...</td>\n",
       "      <td>9.0</td>\n",
       "      <td>1.0</td>\n",
       "      <td>1.0</td>\n",
       "      <td>6.0</td>\n",
       "      <td>1</td>\n",
       "      <td>0</td>\n",
       "      <td>0</td>\n",
       "      <td>15.275714</td>\n",
       "      <td>0.0</td>\n",
       "      <td>0.0</td>\n",
       "    </tr>\n",
       "  </tbody>\n",
       "</table>\n",
       "<p>5 rows × 37 columns</p>\n",
       "</div>"
      ],
      "text/plain": [
       "        F  M Sex  Age  Tenure  Count_CA  Count_SA  Count_MF  Count_OVD  \\\n",
       "Client                                                                   \n",
       "1       1  0   F   51       7         1       0.0       0.0        1.0   \n",
       "27      0  1   M   62     181         1       0.0       0.0        1.0   \n",
       "34      1  0   F   48     104         1       1.0       3.0        1.0   \n",
       "36      1  0   F   49     263         1       1.0       2.0        0.0   \n",
       "42      0  1   M   23       4         1       0.0      12.0        0.0   \n",
       "\n",
       "        Count_CC     ...      TransactionsDeb_CA  TransactionsDebCash_Card  \\\n",
       "Client               ...                                                     \n",
       "1            0.0     ...                    30.0                       3.0   \n",
       "27           0.0     ...                     1.0                       0.0   \n",
       "34           1.0     ...                    19.0                       6.0   \n",
       "36           0.0     ...                     0.0                       0.0   \n",
       "42           0.0     ...                     9.0                       1.0   \n",
       "\n",
       "        TransactionsDebCashless_Card  TransactionsDeb_PaymentOrder  Sale_MF  \\\n",
       "Client                                                                        \n",
       "1                               12.0                           9.0        1   \n",
       "27                               0.0                           0.0        1   \n",
       "34                              33.0                          11.0        1   \n",
       "36                               0.0                           0.0        1   \n",
       "42                               1.0                           6.0        1   \n",
       "\n",
       "        Sale_CC  Sale_CL  Revenue_MF  Revenue_CC  Revenue_CL  \n",
       "Client                                                        \n",
       "1             0        0   26.972679         0.0         0.0  \n",
       "27            0        0  220.488214         0.0         0.0  \n",
       "34            0        0    0.601071         0.0         0.0  \n",
       "36            0        0    0.238036         0.0         0.0  \n",
       "42            0        0   15.275714         0.0         0.0  \n",
       "\n",
       "[5 rows x 37 columns]"
      ]
     },
     "execution_count": 91,
     "metadata": {},
     "output_type": "execute_result"
    }
   ],
   "source": [
    "#We have quite many missing values. It's time to theat them.\n",
    "\n",
    "#First, impute the 2 missing Sex variables with the most common category\n",
    "main['Sex'].fillna(main['Sex'].value_counts().index[0], inplace=True)\n",
    "\n",
    "#Second, replace all the NaN values with zero values\n",
    "main = main.replace(np.nan, 0)\n",
    "\n",
    "#Now we need to replace categories with dummy variables.\n",
    "\n",
    "#create dummy variables for Sex feature\n",
    "sex_dummies = pd.get_dummies(main['Sex'])\n",
    "main = pd.concat([sex_dummies, main], axis = 1)\n",
    "\n",
    "#get observations for which column Age has value lower than 18\n",
    "#get observations for customers who did not accept MF offer \n",
    "#since we are applying our model only to those customers who are most likely to accept the offer, we drop those with Sale_MF = 0\n",
    "\n",
    "drop  = main[(main['Sale_MF'] == 0) | (main['Age'] < 18)].index\n",
    "\n",
    "# Delete these rows from dataFrame\n",
    "main = main.drop(drop)\n",
    "main.head()"
   ]
  },
  {
   "cell_type": "code",
   "execution_count": 92,
   "metadata": {},
   "outputs": [],
   "source": [
    "#drop columns with more than 70% of zeroes:\n",
    "main = main.drop([\"Count_SA\",\"Count_MF\",\"Count_OVD\",\"Count_CC\",\n",
    "                   \"Count_CL\",\"ActBal_MF\",\"ActBal_SA\",\"ActBal_OVD\",\"ActBal_CC\",\"ActBal_CL\", 'Sex'],axis=1)"
   ]
  },
  {
   "cell_type": "markdown",
   "metadata": {},
   "source": [
    "# Feature scaling and normalisation:"
   ]
  },
  {
   "cell_type": "code",
   "execution_count": 93,
   "metadata": {},
   "outputs": [],
   "source": [
    "#We choose the same features as for classification as they are not correlated:\n",
    "x = main['Age']\n",
    "x1 = main['Tenure']\n",
    "x2 = main['ActBal_CA']\n",
    "x3 = main['VolumeCred']\n",
    "x4 = main['VolumeDebCashless_Card']"
   ]
  },
  {
   "cell_type": "code",
   "execution_count": 94,
   "metadata": {},
   "outputs": [
    {
     "data": {
      "image/png": "[encoded data removed]",
      "text/plain": [
       "<Figure size 432x288 with 1 Axes>"
      ]
     },
     "metadata": {
      "needs_background": "light"
     },
     "output_type": "display_data"
    }
   ],
   "source": [
    "#x = main['Age']:\n",
    "\n",
    "#add 0.01 in case an observation is equal to zero:\n",
    "x = x + 0.01\n",
    "\n",
    "#Box Cox Transformation helps to normalise the data:\n",
    "xt, maxlog, interval = stats.boxcox(x, alpha = 0.05)\n",
    "\n",
    "#Min-max scaling scales the data between 0 and 1:\n",
    "xt = (xt-xt.mean())/(xt.max()-xt.min())\n",
    "sns.kdeplot(xt, shade=True, label=\"Transformed\");"
   ]
  },
  {
   "cell_type": "code",
   "execution_count": 95,
   "metadata": {},
   "outputs": [
    {
     "data": {
      "image/png": "[encoded data removed]",
      "text/plain": [
       "<Figure size 432x288 with 1 Axes>"
      ]
     },
     "metadata": {
      "needs_background": "light"
     },
     "output_type": "display_data"
    }
   ],
   "source": [
    "#x1 = main['Tenure']:\n",
    "    \n",
    "x1 = x1 + 0.01\n",
    "xt1, maxlog, interval = stats.boxcox(x1, alpha=0.05)\n",
    "xt1 = (xt1-xt1.mean())/(xt1.max()-xt1.min())\n",
    "sns.kdeplot(xt1, shade=True, label=\"Transformed\");"
   ]
  },
  {
   "cell_type": "code",
   "execution_count": 96,
   "metadata": {},
   "outputs": [
    {
     "data": {
      "image/png": "[encoded data removed]",
      "text/plain": [
       "<Figure size 432x288 with 1 Axes>"
      ]
     },
     "metadata": {
      "needs_background": "light"
     },
     "output_type": "display_data"
    }
   ],
   "source": [
    "#x2 = main['ActBal_CA']:\n",
    "\n",
    "x2 = x2 + 0.01\n",
    "xt2, maxlog, interval = stats.boxcox(x2, alpha=0.05)\n",
    "xt2 = (xt2-xt2.mean())/(xt2.max()-xt2.min())\n",
    "sns.kdeplot(xt2, shade=True, label=\"Transformed\");"
   ]
  },
  {
   "cell_type": "code",
   "execution_count": 97,
   "metadata": {},
   "outputs": [
    {
     "data": {
      "image/png": "[encoded data removed]",
      "text/plain": [
       "<Figure size 432x288 with 1 Axes>"
      ]
     },
     "metadata": {
      "needs_background": "light"
     },
     "output_type": "display_data"
    }
   ],
   "source": [
    "#x3 = main['VolumeCred']:\n",
    "    \n",
    "x3 = x3 + 0.01\n",
    "xt3, maxlog, interval = stats.boxcox(x3, alpha=0.05)\n",
    "xt3 = (xt3-xt3.mean())/(xt3.max()-xt3.min())\n",
    "sns.kdeplot(xt3, shade=True, label=\"Transformed\");"
   ]
  },
  {
   "cell_type": "code",
   "execution_count": 98,
   "metadata": {},
   "outputs": [
    {
     "data": {
      "image/png": "[encoded data removed]",
      "text/plain": [
       "<Figure size 432x288 with 1 Axes>"
      ]
     },
     "metadata": {
      "needs_background": "light"
     },
     "output_type": "display_data"
    }
   ],
   "source": [
    "#x4 = main['VolumeDebCashless_Card']:\n",
    "    \n",
    "x4 = x4 + 0.01\n",
    "xt4, maxlog, interval = stats.boxcox(x4, alpha=0.05)\n",
    "xt4 = (xt4-xt4.mean())/(xt4.max()-xt4.min())\n",
    "sns.kdeplot(xt4, shade=True, label=\"Transformed\");"
   ]
  },
  {
   "cell_type": "code",
   "execution_count": 99,
   "metadata": {},
   "outputs": [],
   "source": [
    "#join transformed variables into a new DataFrame:\n",
    "\n",
    "Tmain_ML = pd.DataFrame()\n",
    "Tmain_ML['M'] = main['M']\n",
    "Tmain_ML['F'] = main ['F']\n",
    "Tmain_ML['Age'] = xt\n",
    "Tmain_ML['Tenure'] = xt1\n",
    "Tmain_ML['Count_CA'] = main['Count_CA']\n",
    "Tmain_ML['ActBal_CA'] = xt2\n",
    "Tmain_ML['VolumeCred'] = xt3\n",
    "Tmain_ML['VolumeDebCashless_Card'] = xt4"
   ]
  },
  {
   "cell_type": "code",
   "execution_count": 100,
   "metadata": {},
   "outputs": [
    {
     "data": {
      "text/plain": [
       "Index(['M', 'F', 'Age', 'Tenure', 'Count_CA', 'ActBal_CA', 'VolumeCred',\n",
       "       'VolumeDebCashless_Card'],\n",
       "      dtype='object')"
      ]
     },
     "execution_count": 100,
     "metadata": {},
     "output_type": "execute_result"
    }
   ],
   "source": [
    "Tmain_ML.columns"
   ]
  },
  {
   "cell_type": "markdown",
   "metadata": {},
   "source": [
    "# Solit data into test and train:"
   ]
  },
  {
   "cell_type": "code",
   "execution_count": 101,
   "metadata": {},
   "outputs": [
    {
     "name": "stdout",
     "output_type": "stream",
     "text": [
      "(182, 8)\n",
      "(182, 1)\n"
     ]
    }
   ],
   "source": [
    "#assign the transformed independent variables to X:\n",
    "X = Tmain_ML[['M', 'F', 'Age', 'Tenure', 'Count_CA', 'ActBal_CA', 'VolumeCred',\n",
    "       'VolumeDebCashless_Card']]\n",
    "\n",
    "#assign target variables to y:\n",
    "y = main[['Revenue_MF']]\n",
    "\n",
    "print(X.shape)\n",
    "print(y.shape)"
   ]
  },
  {
   "cell_type": "code",
   "execution_count": 102,
   "metadata": {},
   "outputs": [
    {
     "name": "stdout",
     "output_type": "stream",
     "text": [
      "-0.3076012545806195\n",
      "[[ 2.54584389e+00 -2.54584389e+00  1.39617370e+01 -5.19758824e+00\n",
      "  -1.09814396e-02 -5.07827793e-01  1.74504142e+01 -9.22251053e+00]]\n",
      "[9.94937729]\n"
     ]
    }
   ],
   "source": [
    "from sklearn.model_selection import train_test_split\n",
    "from sklearn.linear_model import LinearRegression\n",
    "#split data into train and test\n",
    "X_train, X_test, y_train, y_test = train_test_split(X, y, random_state = 0)\n",
    "\n",
    "\n",
    "#fit linear regression to the train data\n",
    "lr = LinearRegression().fit(X_train, y_train)\n",
    "\n",
    "#predict test set results\n",
    "y_test_pred = lr.predict(X_test)\n",
    "\n",
    "#predict accuracy score, coefficients for each independent variable and intercept:\n",
    "print(lr.score(X_test, y_test))\n",
    "print(lr.coef_)\n",
    "print(lr.intercept_)"
   ]
  },
  {
   "cell_type": "code",
   "execution_count": 103,
   "metadata": {},
   "outputs": [],
   "source": [
    "from sklearn.model_selection import cross_val_predict  # For K-Fold Cross Validation\n",
    "from sklearn.metrics import r2_score  # For find accuracy with R2 Score\n",
    "from sklearn.metrics import mean_squared_error  # For MSE\n",
    "from math import sqrt  # For squareroot operation"
   ]
  },
  {
   "cell_type": "markdown",
   "metadata": {},
   "source": [
    "# Multiple Linear Regression"
   ]
  },
  {
   "cell_type": "code",
   "execution_count": 104,
   "metadata": {},
   "outputs": [
    {
     "data": {
      "text/plain": [
       "LinearRegression(copy_X=True, fit_intercept=True, n_jobs=None,\n",
       "         normalize=False)"
      ]
     },
     "execution_count": 104,
     "metadata": {},
     "output_type": "execute_result"
    }
   ],
   "source": [
    "#Time to apply models to our data:\n",
    "from sklearn.linear_model import LinearRegression  # Import Linear Regression model\n",
    "\n",
    "MLR = LinearRegression()  # Create a instance for Linear Regression model\n",
    "MLR.fit(X_train, y_train)  # Fit data to the model\n"
   ]
  },
  {
   "cell_type": "code",
   "execution_count": 105,
   "metadata": {},
   "outputs": [
    {
     "name": "stdout",
     "output_type": "stream",
     "text": [
      "Training Accuracy for MLR Model:  0.07240595083334778\n",
      "Testing Accuracy for MLR Model:  -0.3076012545806195\n",
      "RMSE for Training Data:  21.94171229468083\n",
      "RMSE for Testing Data:  16.44721737137379\n",
      "Accuracy for 10-Fold Cross Predicted MLR Model:  -0.08996974329736762\n"
     ]
    }
   ],
   "source": [
    "# Prediction with training dataset:\n",
    "y_pred_MLR_train = MLR.predict(X_train)\n",
    "\n",
    "# Prediction with testing dataset:\n",
    "y_pred_MLR_test = MLR.predict(X_test)\n",
    "\n",
    "# Find training accuracy for this model:\n",
    "accuracy_MLR_train = r2_score(y_train, y_pred_MLR_train)\n",
    "print(\"Training Accuracy for MLR Model: \", accuracy_MLR_train)\n",
    "\n",
    "# Find testing accuracy for this model:\n",
    "accuracy_MLR_test = r2_score(y_test, y_pred_MLR_test)\n",
    "print(\"Testing Accuracy for MLR Model: \", accuracy_MLR_test)\n",
    "\n",
    "# Find RMSE (root mean square error) for training data:\n",
    "RMSE_MLR_train = sqrt(mean_squared_error(y_train, y_pred_MLR_train))\n",
    "print(\"RMSE for Training Data: \", RMSE_MLR_train)\n",
    "\n",
    "# Find RMSE for testing data:\n",
    "RMSE_MLR_test = sqrt(mean_squared_error(y_test, y_pred_MLR_test))\n",
    "print(\"RMSE for Testing Data: \", RMSE_MLR_test)\n",
    "\n",
    "# Prediction with 10-Fold Cross Validation:\n",
    "y_pred_cv_MLR = cross_val_predict(MLR, X, y, cv=10)\n",
    "\n",
    "# Find accuracy after 10-Fold Cross Validation\n",
    "accuracy_cv_MLR = r2_score(y, y_pred_cv_MLR)\n",
    "print(\"Accuracy for 10-Fold Cross Predicted MLR Model: \", accuracy_cv_MLR)\n"
   ]
  },
  {
   "cell_type": "markdown",
   "metadata": {},
   "source": [
    "# Polynomial Features"
   ]
  },
  {
   "cell_type": "code",
   "execution_count": 106,
   "metadata": {},
   "outputs": [
    {
     "data": {
      "text/plain": [
       "LinearRegression(copy_X=True, fit_intercept=False, n_jobs=None,\n",
       "         normalize=False)"
      ]
     },
     "execution_count": 106,
     "metadata": {},
     "output_type": "execute_result"
    }
   ],
   "source": [
    "from sklearn.preprocessing import PolynomialFeatures\n",
    "\n",
    "polynomial_features = PolynomialFeatures(degree=3)  \n",
    "x_train_poly = polynomial_features.fit_transform(X_train)  # Fit and transform the training data to polynomial\n",
    "x_test_poly = polynomial_features.fit_transform(X_test)  # Fit and transform the testing data to polynomial\n",
    "\n",
    "PR = LinearRegression(fit_intercept=False)  \n",
    "PR.fit(x_train_poly, y_train)  "
   ]
  },
  {
   "cell_type": "code",
   "execution_count": 107,
   "metadata": {},
   "outputs": [
    {
     "name": "stdout",
     "output_type": "stream",
     "text": [
      "Training Accuracy for Polynomial Regression Model:  0.8785704488489543\n",
      "Testing Accuracy for Polynomial Regression Model:  -3.0358030740565782\n",
      "RMSE for Training Data:  7.938779400511316\n",
      "RMSE for Testing Data:  28.89480389580796\n",
      "Accuracy for 10-Fold Cross Predicted Polynomial Regression Model:  -0.8128482116782321\n"
     ]
    }
   ],
   "source": [
    "# Prediction with training dataset:\n",
    "y_pred_PR_train = PR.predict(x_train_poly)\n",
    "\n",
    "# Prediction with testing dataset:\n",
    "y_pred_PR_test = PR.predict(x_test_poly)\n",
    "\n",
    "# Find training accuracy for this model:\n",
    "accuracy_PR_train = r2_score(y_train, y_pred_PR_train)\n",
    "print(\"Training Accuracy for Polynomial Regression Model: \", accuracy_PR_train)\n",
    "\n",
    "# Find testing accuracy for this model:\n",
    "accuracy_PR_test = r2_score(y_test, y_pred_PR_test)\n",
    "print(\"Testing Accuracy for Polynomial Regression Model: \", accuracy_PR_test)\n",
    "\n",
    "# Find RMSE for training data:\n",
    "RMSE_PR_train = sqrt(mean_squared_error(y_train, y_pred_PR_train))\n",
    "print(\"RMSE for Training Data: \", RMSE_PR_train)\n",
    "\n",
    "# Find RMSE for testing data:\n",
    "RMSE_PR_test = sqrt(mean_squared_error(y_test, y_pred_PR_test))\n",
    "print(\"RMSE for Testing Data: \", RMSE_PR_test)\n",
    "\n",
    "# Prediction with 10-Fold Cross Validation:\n",
    "y_pred_cv_PR = cross_val_predict(PR, polynomial_features.fit_transform(X), y, cv=10)\n",
    "\n",
    "# Find accuracy after 10-Fold Cross Validation\n",
    "accuracy_cv_PR = r2_score(y, y_pred_cv_PR)\n",
    "print(\"Accuracy for 10-Fold Cross Predicted Polynomial Regression Model: \", accuracy_cv_PR)\n"
   ]
  },
  {
   "cell_type": "code",
   "execution_count": 108,
   "metadata": {},
   "outputs": [],
   "source": [
    "from sklearn.model_selection import cross_val_predict  # For K-Fold Cross Validation\n",
    "from sklearn.metrics import r2_score  # For find accuracy with R2 Score\n",
    "from sklearn.metrics import mean_squared_error  # For MSE\n",
    "from math import sqrt  # For squareroot operation\n"
   ]
  },
  {
   "cell_type": "markdown",
   "metadata": {},
   "source": [
    "# Decision Tree"
   ]
  },
  {
   "cell_type": "code",
   "execution_count": 109,
   "metadata": {},
   "outputs": [
    {
     "data": {
      "text/plain": [
       "DecisionTreeRegressor(criterion='mse', max_depth=None, max_features=None,\n",
       "           max_leaf_nodes=None, min_impurity_decrease=0.0,\n",
       "           min_impurity_split=None, min_samples_leaf=1,\n",
       "           min_samples_split=2, min_weight_fraction_leaf=0.0,\n",
       "           presort=False, random_state=13, splitter='best')"
      ]
     },
     "execution_count": 109,
     "metadata": {},
     "output_type": "execute_result"
    }
   ],
   "source": [
    "from sklearn.tree import DecisionTreeRegressor  \n",
    "\n",
    "DTR = DecisionTreeRegressor( random_state = 13)  \n",
    "DTR.fit(X_train, y_train) "
   ]
  },
  {
   "cell_type": "code",
   "execution_count": 110,
   "metadata": {},
   "outputs": [
    {
     "name": "stdout",
     "output_type": "stream",
     "text": [
      "Best: -0.058830 using {'max_leaf_nodes': 4, 'min_samples_split': 2}\n"
     ]
    }
   ],
   "source": [
    "#Apply GridSearch to find best hyperparameters.\n",
    "\n",
    "from sklearn.model_selection import GridSearchCV\n",
    "param_grid = {\n",
    "        'max_leaf_nodes': list(range(2, 100)), \n",
    "        'min_samples_split': [2, 3, 4]\n",
    "        }\n",
    "\n",
    "#Instantiate GridSearchCV with the required parameters\n",
    "grid_model = GridSearchCV(DTR, param_grid=param_grid)\n",
    "\n",
    "#Fit data to grid_model\n",
    "grid_model_result = grid_model.fit(X_train, y_train)\n",
    "\n",
    "#Summarize results\n",
    "best_params = grid_model_result.best_params_\n",
    "best_score = grid_model_result.best_score_\n",
    "print(\"Best: %f using %s\" % (best_score, best_params))"
   ]
  },
  {
   "cell_type": "code",
   "execution_count": 111,
   "metadata": {},
   "outputs": [
    {
     "data": {
      "text/plain": [
       "DecisionTreeRegressor(criterion='mse', max_depth=3, max_features=None,\n",
       "           max_leaf_nodes=2, min_impurity_decrease=0.0,\n",
       "           min_impurity_split=None, min_samples_leaf=1,\n",
       "           min_samples_split=2, min_weight_fraction_leaf=0.0,\n",
       "           presort=False, random_state=13, splitter='best')"
      ]
     },
     "execution_count": 111,
     "metadata": {},
     "output_type": "execute_result"
    }
   ],
   "source": [
    "DTR = DecisionTreeRegressor( max_depth = 3,max_leaf_nodes = 2, min_samples_split = 2, random_state = 13)  \n",
    "DTR.fit(X_train, y_train)"
   ]
  },
  {
   "cell_type": "code",
   "execution_count": 112,
   "metadata": {},
   "outputs": [
    {
     "name": "stdout",
     "output_type": "stream",
     "text": [
      "Training Accuracy for Decision Tree Regression Model:  0.1611987865205199\n",
      "Testing Accuracy for Decision Tree Regression Model:  -0.5397180130829144\n",
      "RMSE for Training Data:  20.865128528987608\n",
      "RMSE for Testing Data:  17.84741668321756\n",
      "Accuracy for 10-Fold Cross Predicted Decision Tree Regression Model:  -0.07179302421202038\n"
     ]
    }
   ],
   "source": [
    "# Prediction with training dataset:\n",
    "y_pred_DTR_train = DTR.predict(X_train)\n",
    "\n",
    "# Prediction with testing dataset:\n",
    "y_pred_DTR_test = DTR.predict(X_test)\n",
    "\n",
    "# Find training accuracy for this model:\n",
    "accuracy_DTR_train = r2_score(y_train, y_pred_DTR_train)\n",
    "print(\"Training Accuracy for Decision Tree Regression Model: \", accuracy_DTR_train)\n",
    "\n",
    "# Find testing accuracy for this model:\n",
    "accuracy_DTR_test = r2_score(y_test, y_pred_DTR_test)\n",
    "print(\"Testing Accuracy for Decision Tree Regression Model: \", accuracy_DTR_test)\n",
    "\n",
    "# Find RMSE for training data:\n",
    "RMSE_DTR_train = sqrt(mean_squared_error(y_train, y_pred_DTR_train))\n",
    "print(\"RMSE for Training Data: \", RMSE_DTR_train)\n",
    "\n",
    "# Find RMSE for testing data:\n",
    "RMSE_DTR_test = sqrt(mean_squared_error(y_test, y_pred_DTR_test))\n",
    "print(\"RMSE for Testing Data: \", RMSE_DTR_test)\n",
    "\n",
    "# Prediction with 10-Fold Cross Validation:\n",
    "y_pred_cv_DTR = cross_val_predict(DTR, X, y, cv=10)\n",
    "\n",
    "# Find accuracy after 10-Fold Cross Validation\n",
    "accuracy_cv_DTR = r2_score(y, y_pred_cv_DTR)\n",
    "print(\"Accuracy for 10-Fold Cross Predicted Decision Tree Regression Model: \", accuracy_cv_DTR)\n"
   ]
  },
  {
   "cell_type": "markdown",
   "metadata": {},
   "source": [
    "# Random Forest"
   ]
  },
  {
   "cell_type": "code",
   "execution_count": 113,
   "metadata": {},
   "outputs": [
    {
     "data": {
      "text/plain": [
       "RandomForestRegressor(bootstrap=True, criterion='mse', max_depth=5,\n",
       "           max_features='sqrt', max_leaf_nodes=None,\n",
       "           min_impurity_decrease=0.0, min_impurity_split=None,\n",
       "           min_samples_leaf=1, min_samples_split=2,\n",
       "           min_weight_fraction_leaf=0.0, n_estimators=1000, n_jobs=None,\n",
       "           oob_score=False, random_state=13, verbose=0, warm_start=False)"
      ]
     },
     "execution_count": 113,
     "metadata": {},
     "output_type": "execute_result"
    }
   ],
   "source": [
    "from sklearn.ensemble import RandomForestRegressor  \n",
    "\n",
    "RFR = RandomForestRegressor(n_estimators=1000, max_depth=5, random_state=13, max_features = 'sqrt')  \n",
    "RFR.fit(X_train, y_train)  "
   ]
  },
  {
   "cell_type": "code",
   "execution_count": 114,
   "metadata": {},
   "outputs": [
    {
     "name": "stdout",
     "output_type": "stream",
     "text": [
      "Best: -0.547258 using {'max_features': 'sqrt', 'n_estimators': 700}\n"
     ]
    }
   ],
   "source": [
    "from sklearn.model_selection import GridSearchCV\n",
    "param_grid = {\n",
    "            'n_estimators': [200, 700, 800, 1000],\n",
    "            'max_features': ['auto', 'sqrt', 'log2']\n",
    "            }\n",
    "\n",
    "#Instantiate GridSearchCV with the required parameters\n",
    "grid_model = GridSearchCV(RFR, param_grid=param_grid)\n",
    "\n",
    "#Fit data to grid_model\n",
    "grid_model_result = grid_model.fit(X_train, y_train)\n",
    "\n",
    "#Summarize results\n",
    "best_params = grid_model_result.best_params_\n",
    "best_score = grid_model_result.best_score_\n",
    "print(\"Best: %f using %s\" % (best_score, best_params))\n"
   ]
  },
  {
   "cell_type": "code",
   "execution_count": 115,
   "metadata": {},
   "outputs": [
    {
     "name": "stdout",
     "output_type": "stream",
     "text": [
      "Training Accuracy for Random Forest Regression Model:  0.7525699779282307\n",
      "Testing Accuracy for Random Forest Regression Model:  -0.3491532016319314\n",
      "RMSE for Training Data:  11.332291470627746\n",
      "RMSE for Testing Data:  16.706497193814357\n",
      "Accuracy for 10-Fold Cross Predicted Random Forest Regression Model:  -0.02999490546690553\n"
     ]
    }
   ],
   "source": [
    "# Prediction with training dataset:\n",
    "y_pred_RFR_train = RFR.predict(X_train)\n",
    "\n",
    "# Prediction with testing dataset:\n",
    "y_pred_RFR_test = RFR.predict(X_test)\n",
    "\n",
    "# Find training accuracy for this model:\n",
    "accuracy_RFR_train = r2_score(y_train, y_pred_RFR_train)\n",
    "print(\"Training Accuracy for Random Forest Regression Model: \", accuracy_RFR_train)\n",
    "\n",
    "# Find testing accuracy for this model:\n",
    "accuracy_RFR_test = r2_score(y_test, y_pred_RFR_test)\n",
    "print(\"Testing Accuracy for Random Forest Regression Model: \", accuracy_RFR_test)\n",
    "\n",
    "# Find RMSE for training data:\n",
    "RMSE_RFR_train = sqrt(mean_squared_error(y_train, y_pred_RFR_train))\n",
    "print(\"RMSE for Training Data: \", RMSE_RFR_train)\n",
    "\n",
    "# Find RMSE for testing data:\n",
    "RMSE_RFR_test = sqrt(mean_squared_error(y_test, y_pred_RFR_test))\n",
    "print(\"RMSE for Testing Data: \", RMSE_RFR_test)\n",
    "\n",
    "# Prediction with 10-Fold Cross Validation:\n",
    "y_pred_cv_RFR = cross_val_predict(RFR, X, y, cv=10)\n",
    "\n",
    "# Find accuracy after 10-Fold Cross Validation\n",
    "accuracy_cv_RFR = r2_score(y, y_pred_cv_RFR)\n",
    "print(\"Accuracy for 10-Fold Cross Predicted Random Forest Regression Model: \", accuracy_cv_RFR)\n"
   ]
  },
  {
   "cell_type": "code",
   "execution_count": 116,
   "metadata": {},
   "outputs": [
    {
     "data": {
      "text/html": [
       "<div>\n",
       "<style scoped>\n",
       "    .dataframe tbody tr th:only-of-type {\n",
       "        vertical-align: middle;\n",
       "    }\n",
       "\n",
       "    .dataframe tbody tr th {\n",
       "        vertical-align: top;\n",
       "    }\n",
       "\n",
       "    .dataframe thead th {\n",
       "        text-align: right;\n",
       "    }\n",
       "</style>\n",
       "<table border=\"1\" class=\"dataframe\">\n",
       "  <thead>\n",
       "    <tr style=\"text-align: right;\">\n",
       "      <th></th>\n",
       "      <th>Parameters</th>\n",
       "      <th>Training Accuracy</th>\n",
       "      <th>Testing Accuracy</th>\n",
       "      <th>Training RMSE</th>\n",
       "      <th>Testing RMSE</th>\n",
       "      <th>10-Fold Score</th>\n",
       "    </tr>\n",
       "  </thead>\n",
       "  <tbody>\n",
       "    <tr>\n",
       "      <th>Multiple Linear Regression</th>\n",
       "      <td>fit_intercept=False</td>\n",
       "      <td>0.072406</td>\n",
       "      <td>-0.307601</td>\n",
       "      <td>21.941712</td>\n",
       "      <td>16.447217</td>\n",
       "      <td>-0.089970</td>\n",
       "    </tr>\n",
       "    <tr>\n",
       "      <th>Polynomial Regression</th>\n",
       "      <td>fit_intercept=False</td>\n",
       "      <td>0.878570</td>\n",
       "      <td>-3.035803</td>\n",
       "      <td>7.938779</td>\n",
       "      <td>28.894804</td>\n",
       "      <td>-0.812848</td>\n",
       "    </tr>\n",
       "    <tr>\n",
       "      <th>Decision Tree Regression</th>\n",
       "      <td>max_depth=5</td>\n",
       "      <td>0.161199</td>\n",
       "      <td>-0.539718</td>\n",
       "      <td>20.865129</td>\n",
       "      <td>17.847417</td>\n",
       "      <td>-0.071793</td>\n",
       "    </tr>\n",
       "    <tr>\n",
       "      <th>Random Forest Regression</th>\n",
       "      <td>n_estimators=400, max_depth=5</td>\n",
       "      <td>0.752570</td>\n",
       "      <td>-0.349153</td>\n",
       "      <td>11.332291</td>\n",
       "      <td>16.706497</td>\n",
       "      <td>-0.029995</td>\n",
       "    </tr>\n",
       "  </tbody>\n",
       "</table>\n",
       "</div>"
      ],
      "text/plain": [
       "                                               Parameters  Training Accuracy  \\\n",
       "Multiple Linear Regression            fit_intercept=False           0.072406   \n",
       "Polynomial Regression                 fit_intercept=False           0.878570   \n",
       "Decision Tree Regression                      max_depth=5           0.161199   \n",
       "Random Forest Regression    n_estimators=400, max_depth=5           0.752570   \n",
       "\n",
       "                            Testing Accuracy  Training RMSE  Testing RMSE  \\\n",
       "Multiple Linear Regression         -0.307601      21.941712     16.447217   \n",
       "Polynomial Regression              -3.035803       7.938779     28.894804   \n",
       "Decision Tree Regression           -0.539718      20.865129     17.847417   \n",
       "Random Forest Regression           -0.349153      11.332291     16.706497   \n",
       "\n",
       "                            10-Fold Score  \n",
       "Multiple Linear Regression      -0.089970  \n",
       "Polynomial Regression           -0.812848  \n",
       "Decision Tree Regression        -0.071793  \n",
       "Random Forest Regression        -0.029995  "
      ]
     },
     "execution_count": 116,
     "metadata": {},
     "output_type": "execute_result"
    }
   ],
   "source": [
    "#Compare all results in one table\n",
    "training_accuracies = [accuracy_MLR_train, accuracy_PR_train, accuracy_DTR_train, accuracy_RFR_train]\n",
    "testing_accuracies = [accuracy_MLR_test, accuracy_PR_test, accuracy_DTR_test, accuracy_RFR_test]\n",
    "training_RMSE = [RMSE_MLR_train, RMSE_PR_train, RMSE_DTR_train, RMSE_RFR_train]\n",
    "testing_RMSE = [RMSE_MLR_test, RMSE_PR_test, RMSE_DTR_test, RMSE_RFR_test]\n",
    "cv_accuracies = [accuracy_cv_MLR, accuracy_cv_PR, accuracy_cv_DTR, accuracy_cv_RFR]\n",
    "\n",
    "parameters = [\"fit_intercept=False\", \"fit_intercept=False\", \"max_depth=5\", \"n_estimators=400, max_depth=5\"]\n",
    "\n",
    "table_data = {\"Parameters\": parameters, \"Training Accuracy\": training_accuracies, \"Testing Accuracy\": testing_accuracies, \n",
    "              \"Training RMSE\": training_RMSE, \"Testing RMSE\": testing_RMSE, \"10-Fold Score\": cv_accuracies}\n",
    "model_names = [\"Multiple Linear Regression\", \"Polynomial Regression\", \"Decision Tree Regression\", \"Random Forest Regression\"]\n",
    "\n",
    "table_dataframe = pd.DataFrame(data=table_data, index=model_names)\n",
    "table_dataframe"
   ]
  },
  {
   "cell_type": "markdown",
   "metadata": {},
   "source": [
    "# Prepare data set for prediction the same way we prepared train set:"
   ]
  },
  {
   "cell_type": "code",
   "execution_count": 117,
   "metadata": {},
   "outputs": [
    {
     "data": {
      "text/plain": [
       "(646, 37)"
      ]
     },
     "execution_count": 117,
     "metadata": {},
     "output_type": "execute_result"
    }
   ],
   "source": [
    "#First, impute the 2 missing Sex variables with the most common category\n",
    "predict['Sex'].fillna(predict['Sex'].value_counts().index[0], inplace=True)\n",
    "\n",
    "#Second, replace all the NaN values with zero values\n",
    "predict = predict.replace(np.nan, 0)\n",
    "\n",
    "#Now we need to replace categories with dummy variables.\n",
    "#create dummy variables for Sex feature\n",
    "sex_dummies = pd.get_dummies(predict['Sex'])\n",
    "predict = pd.concat([sex_dummies, predict], axis = 1)\n",
    "\n",
    "# Get observations for which column Age has value lower than 18\n",
    "#under18 = predict[predict['Age'] < 18].index\n",
    "\n",
    "# Delete these rows from dataFrame\n",
    "#predict = predict.drop(under18)\n",
    "predict.shape\n"
   ]
  },
  {
   "cell_type": "code",
   "execution_count": 118,
   "metadata": {},
   "outputs": [],
   "source": [
    "predict = predict[[ 'M', 'F', 'Age', 'Tenure', 'Count_CA', 'ActBal_CA', 'VolumeCred',\n",
    "       'VolumeDebCashless_Card']]"
   ]
  },
  {
   "cell_type": "code",
   "execution_count": 119,
   "metadata": {},
   "outputs": [
    {
     "data": {
      "text/html": [
       "<div>\n",
       "<style scoped>\n",
       "    .dataframe tbody tr th:only-of-type {\n",
       "        vertical-align: middle;\n",
       "    }\n",
       "\n",
       "    .dataframe tbody tr th {\n",
       "        vertical-align: top;\n",
       "    }\n",
       "\n",
       "    .dataframe thead th {\n",
       "        text-align: right;\n",
       "    }\n",
       "</style>\n",
       "<table border=\"1\" class=\"dataframe\">\n",
       "  <thead>\n",
       "    <tr style=\"text-align: right;\">\n",
       "      <th></th>\n",
       "      <th>M</th>\n",
       "      <th>F</th>\n",
       "      <th>Age</th>\n",
       "      <th>Tenure</th>\n",
       "      <th>Count_CA</th>\n",
       "      <th>ActBal_CA</th>\n",
       "      <th>VolumeCred</th>\n",
       "      <th>VolumeDebCashless_Card</th>\n",
       "    </tr>\n",
       "  </thead>\n",
       "  <tbody>\n",
       "    <tr>\n",
       "      <th>0</th>\n",
       "      <td>1</td>\n",
       "      <td>0</td>\n",
       "      <td>35</td>\n",
       "      <td>44</td>\n",
       "      <td>1</td>\n",
       "      <td>139.838929</td>\n",
       "      <td>3.270714</td>\n",
       "      <td>0.000000</td>\n",
       "    </tr>\n",
       "    <tr>\n",
       "      <th>1</th>\n",
       "      <td>1</td>\n",
       "      <td>0</td>\n",
       "      <td>37</td>\n",
       "      <td>58</td>\n",
       "      <td>1</td>\n",
       "      <td>1231.442143</td>\n",
       "      <td>188.833571</td>\n",
       "      <td>0.000000</td>\n",
       "    </tr>\n",
       "    <tr>\n",
       "      <th>2</th>\n",
       "      <td>1</td>\n",
       "      <td>0</td>\n",
       "      <td>55</td>\n",
       "      <td>26</td>\n",
       "      <td>1</td>\n",
       "      <td>10.963571</td>\n",
       "      <td>0.210000</td>\n",
       "      <td>0.000000</td>\n",
       "    </tr>\n",
       "    <tr>\n",
       "      <th>3</th>\n",
       "      <td>1</td>\n",
       "      <td>0</td>\n",
       "      <td>60</td>\n",
       "      <td>158</td>\n",
       "      <td>1</td>\n",
       "      <td>379.382143</td>\n",
       "      <td>695.889643</td>\n",
       "      <td>140.760714</td>\n",
       "    </tr>\n",
       "    <tr>\n",
       "      <th>4</th>\n",
       "      <td>0</td>\n",
       "      <td>1</td>\n",
       "      <td>58</td>\n",
       "      <td>175</td>\n",
       "      <td>1</td>\n",
       "      <td>16.882143</td>\n",
       "      <td>517.400357</td>\n",
       "      <td>0.000000</td>\n",
       "    </tr>\n",
       "  </tbody>\n",
       "</table>\n",
       "</div>"
      ],
      "text/plain": [
       "   M  F  Age  Tenure  Count_CA    ActBal_CA  VolumeCred  \\\n",
       "0  1  0   35      44         1   139.838929    3.270714   \n",
       "1  1  0   37      58         1  1231.442143  188.833571   \n",
       "2  1  0   55      26         1    10.963571    0.210000   \n",
       "3  1  0   60     158         1   379.382143  695.889643   \n",
       "4  0  1   58     175         1    16.882143  517.400357   \n",
       "\n",
       "   VolumeDebCashless_Card  \n",
       "0                0.000000  \n",
       "1                0.000000  \n",
       "2                0.000000  \n",
       "3              140.760714  \n",
       "4                0.000000  "
      ]
     },
     "execution_count": 119,
     "metadata": {},
     "output_type": "execute_result"
    }
   ],
   "source": [
    "#Upload the dataset of people from classification problem (most likely to accept MF offer).\n",
    "contact_MF = pd.read_csv('~/Desktop/contact_MF1.csv')\n",
    "contact_1_MF = contact_MF [['M', 'F', 'Age', 'Tenure', 'Count_CA', 'ActBal_CA', 'VolumeCred',\n",
    "       'VolumeDebCashless_Card']]\n",
    "contact_1_MF.head()"
   ]
  },
  {
   "cell_type": "code",
   "execution_count": 120,
   "metadata": {},
   "outputs": [],
   "source": [
    "contact_2_MF = contact_MF [['Client', 'Label', 'Probability']]"
   ]
  },
  {
   "cell_type": "code",
   "execution_count": 121,
   "metadata": {},
   "outputs": [],
   "source": [
    "#scale and normalise features:\n",
    "a1 = contact_1_MF['Age']\n",
    "a2 = contact_1_MF['Tenure']\n",
    "a3 = contact_1_MF['ActBal_CA']\n",
    "a4 = contact_1_MF['VolumeCred']\n",
    "a5 = contact_1_MF['VolumeDebCashless_Card']"
   ]
  },
  {
   "cell_type": "code",
   "execution_count": 122,
   "metadata": {},
   "outputs": [
    {
     "data": {
      "image/png": "[encoded data removed]",
      "text/plain": [
       "<Figure size 432x288 with 1 Axes>"
      ]
     },
     "metadata": {
      "needs_background": "light"
     },
     "output_type": "display_data"
    }
   ],
   "source": [
    "a1 = a1 + 0.01\n",
    "at1, maxlog, interval = stats.boxcox(a1, alpha=0.05)\n",
    "at1 = (at1-at1.mean())/(at1.max()-at1.min())\n",
    "sns.kdeplot(at1, shade=True, label=\"Transformed\");"
   ]
  },
  {
   "cell_type": "code",
   "execution_count": 123,
   "metadata": {},
   "outputs": [
    {
     "data": {
      "image/png": "[encoded data removed]",
      "text/plain": [
       "<Figure size 432x288 with 1 Axes>"
      ]
     },
     "metadata": {
      "needs_background": "light"
     },
     "output_type": "display_data"
    }
   ],
   "source": [
    "a2 = a2 + 0.01\n",
    "at2, maxlog, interval = stats.boxcox(a2, alpha=0.05)\n",
    "at2 = (at2-at2.mean())/(at2.max()-at2.min())\n",
    "sns.kdeplot(at2, shade=True, label=\"Transformed\");"
   ]
  },
  {
   "cell_type": "code",
   "execution_count": 124,
   "metadata": {},
   "outputs": [
    {
     "data": {
      "image/png": "[encoded data removed]",
      "text/plain": [
       "<Figure size 432x288 with 1 Axes>"
      ]
     },
     "metadata": {
      "needs_background": "light"
     },
     "output_type": "display_data"
    }
   ],
   "source": [
    "a3 = a3 + 0.01\n",
    "at3, maxlog, interval = stats.boxcox(a3, alpha=0.05)\n",
    "at3 = (at3-at3.mean())/(at3.max()-at3.min())\n",
    "sns.kdeplot(at3, shade=True, label=\"Transformed\");"
   ]
  },
  {
   "cell_type": "code",
   "execution_count": 125,
   "metadata": {},
   "outputs": [
    {
     "data": {
      "image/png": "[encoded data removed]",
      "text/plain": [
       "<Figure size 432x288 with 1 Axes>"
      ]
     },
     "metadata": {
      "needs_background": "light"
     },
     "output_type": "display_data"
    }
   ],
   "source": [
    "a4 = a4 + 0.01\n",
    "at4, maxlog, interval = stats.boxcox(a4, alpha=0.05)\n",
    "at4 = (at4-at4.mean())/(at4.max()-at4.min())\n",
    "sns.kdeplot(at4, shade=True, label=\"Transformed\");"
   ]
  },
  {
   "cell_type": "code",
   "execution_count": 126,
   "metadata": {},
   "outputs": [
    {
     "data": {
      "image/png": "[encoded data removed]",
      "text/plain": [
       "<Figure size 432x288 with 1 Axes>"
      ]
     },
     "metadata": {
      "needs_background": "light"
     },
     "output_type": "display_data"
    }
   ],
   "source": [
    "a5 = a5 + 0.01\n",
    "at5, maxlog, interval = stats.boxcox(a5, alpha=0.05)\n",
    "at5 = (at5-at5.mean())/(at5.max()-at5.min())\n",
    "sns.kdeplot(at5, shade=True, label='Transformed');"
   ]
  },
  {
   "cell_type": "code",
   "execution_count": 127,
   "metadata": {},
   "outputs": [],
   "source": [
    "#join transformed features into a DataFrame:\n",
    "Predict_MF = pd.DataFrame()\n",
    "Predict_MF['M'] = contact_MF['M']\n",
    "Predict_MF['F'] = contact_MF['F']\n",
    "Predict_MF['Age'] = at1\n",
    "Predict_MF['Tenure'] = at2\n",
    "Predict_MF['Count_CA'] = contact_MF['Count_CA']\n",
    "Predict_MF['ActBal_CA']= at3\n",
    "Predict_MF['VolumeCred']= at4\n",
    "Predict_MF['VolumeDebCashless_Card'] = at5"
   ]
  },
  {
   "cell_type": "markdown",
   "metadata": {},
   "source": [
    "# Predict possible revenue for previously identified customers:"
   ]
  },
  {
   "cell_type": "code",
   "execution_count": 128,
   "metadata": {},
   "outputs": [
    {
     "data": {
      "text/html": [
       "<div>\n",
       "<style scoped>\n",
       "    .dataframe tbody tr th:only-of-type {\n",
       "        vertical-align: middle;\n",
       "    }\n",
       "\n",
       "    .dataframe tbody tr th {\n",
       "        vertical-align: top;\n",
       "    }\n",
       "\n",
       "    .dataframe thead th {\n",
       "        text-align: right;\n",
       "    }\n",
       "</style>\n",
       "<table border=\"1\" class=\"dataframe\">\n",
       "  <thead>\n",
       "    <tr style=\"text-align: right;\">\n",
       "      <th></th>\n",
       "      <th>0</th>\n",
       "    </tr>\n",
       "  </thead>\n",
       "  <tbody>\n",
       "    <tr>\n",
       "      <th>0</th>\n",
       "      <td>10.249947</td>\n",
       "    </tr>\n",
       "    <tr>\n",
       "      <th>1</th>\n",
       "      <td>9.057325</td>\n",
       "    </tr>\n",
       "    <tr>\n",
       "      <th>2</th>\n",
       "      <td>12.393457</td>\n",
       "    </tr>\n",
       "    <tr>\n",
       "      <th>3</th>\n",
       "      <td>6.193177</td>\n",
       "    </tr>\n",
       "    <tr>\n",
       "      <th>4</th>\n",
       "      <td>11.746126</td>\n",
       "    </tr>\n",
       "  </tbody>\n",
       "</table>\n",
       "</div>"
      ],
      "text/plain": [
       "           0\n",
       "0  10.249947\n",
       "1   9.057325\n",
       "2  12.393457\n",
       "3   6.193177\n",
       "4  11.746126"
      ]
     },
     "execution_count": 128,
     "metadata": {},
     "output_type": "execute_result"
    }
   ],
   "source": [
    "#predict possible revenue (apply Random Forst Regressor):\n",
    "\n",
    "predict_MF = pd.DataFrame(RFR.predict(Predict_MF))\n",
    "predict_MF.head()"
   ]
  },
  {
   "cell_type": "code",
   "execution_count": 129,
   "metadata": {},
   "outputs": [],
   "source": [
    "merge_MF = pd.merge(contact_2_MF, predict_MF, left_index=True, right_index=True)"
   ]
  },
  {
   "cell_type": "code",
   "execution_count": 130,
   "metadata": {},
   "outputs": [
    {
     "data": {
      "text/html": [
       "<div>\n",
       "<style scoped>\n",
       "    .dataframe tbody tr th:only-of-type {\n",
       "        vertical-align: middle;\n",
       "    }\n",
       "\n",
       "    .dataframe tbody tr th {\n",
       "        vertical-align: top;\n",
       "    }\n",
       "\n",
       "    .dataframe thead th {\n",
       "        text-align: right;\n",
       "    }\n",
       "</style>\n",
       "<table border=\"1\" class=\"dataframe\">\n",
       "  <thead>\n",
       "    <tr style=\"text-align: right;\">\n",
       "      <th></th>\n",
       "      <th>Client</th>\n",
       "      <th>Lable_MF</th>\n",
       "      <th>Probability</th>\n",
       "      <th>Pred_Revenue</th>\n",
       "    </tr>\n",
       "  </thead>\n",
       "  <tbody>\n",
       "    <tr>\n",
       "      <th>0</th>\n",
       "      <td>978</td>\n",
       "      <td>1</td>\n",
       "      <td>0.900</td>\n",
       "      <td>10.249947</td>\n",
       "    </tr>\n",
       "    <tr>\n",
       "      <th>1</th>\n",
       "      <td>301</td>\n",
       "      <td>1</td>\n",
       "      <td>0.865</td>\n",
       "      <td>9.057325</td>\n",
       "    </tr>\n",
       "    <tr>\n",
       "      <th>2</th>\n",
       "      <td>579</td>\n",
       "      <td>1</td>\n",
       "      <td>0.855</td>\n",
       "      <td>12.393457</td>\n",
       "    </tr>\n",
       "    <tr>\n",
       "      <th>3</th>\n",
       "      <td>685</td>\n",
       "      <td>1</td>\n",
       "      <td>0.855</td>\n",
       "      <td>6.193177</td>\n",
       "    </tr>\n",
       "    <tr>\n",
       "      <th>4</th>\n",
       "      <td>976</td>\n",
       "      <td>1</td>\n",
       "      <td>0.830</td>\n",
       "      <td>11.746126</td>\n",
       "    </tr>\n",
       "    <tr>\n",
       "      <th>5</th>\n",
       "      <td>11</td>\n",
       "      <td>1</td>\n",
       "      <td>0.830</td>\n",
       "      <td>8.325133</td>\n",
       "    </tr>\n",
       "    <tr>\n",
       "      <th>6</th>\n",
       "      <td>1007</td>\n",
       "      <td>1</td>\n",
       "      <td>0.825</td>\n",
       "      <td>6.926473</td>\n",
       "    </tr>\n",
       "    <tr>\n",
       "      <th>7</th>\n",
       "      <td>1101</td>\n",
       "      <td>1</td>\n",
       "      <td>0.810</td>\n",
       "      <td>7.521538</td>\n",
       "    </tr>\n",
       "    <tr>\n",
       "      <th>8</th>\n",
       "      <td>223</td>\n",
       "      <td>1</td>\n",
       "      <td>0.800</td>\n",
       "      <td>6.965237</td>\n",
       "    </tr>\n",
       "    <tr>\n",
       "      <th>9</th>\n",
       "      <td>803</td>\n",
       "      <td>1</td>\n",
       "      <td>0.800</td>\n",
       "      <td>6.989197</td>\n",
       "    </tr>\n",
       "  </tbody>\n",
       "</table>\n",
       "</div>"
      ],
      "text/plain": [
       "   Client  Lable_MF  Probability  Pred_Revenue\n",
       "0     978         1        0.900     10.249947\n",
       "1     301         1        0.865      9.057325\n",
       "2     579         1        0.855     12.393457\n",
       "3     685         1        0.855      6.193177\n",
       "4     976         1        0.830     11.746126\n",
       "5      11         1        0.830      8.325133\n",
       "6    1007         1        0.825      6.926473\n",
       "7    1101         1        0.810      7.521538\n",
       "8     223         1        0.800      6.965237\n",
       "9     803         1        0.800      6.989197"
      ]
     },
     "execution_count": 130,
     "metadata": {},
     "output_type": "execute_result"
    }
   ],
   "source": [
    "#merge probabilita score and predicted revenue for each identified client:\n",
    "\n",
    "merge_MF.columns = ['Client', 'Lable_MF', 'Probability', 'Pred_Revenue']\n",
    "merge_MF.head(10)"
   ]
  },
  {
   "cell_type": "code",
   "execution_count": 131,
   "metadata": {},
   "outputs": [],
   "source": [
    "revenue_MF = merge_MF.to_csv('~/Desktop/revenue_MF.csv')"
   ]
  },
  {
   "cell_type": "code",
   "execution_count": 132,
   "metadata": {},
   "outputs": [],
   "source": [
    "#Apply the same procedure to predict revenue for identified customers for CC (Credit card) and CL (Customer loan)"
   ]
  }
 ],
 "metadata": {
  "kernelspec": {
   "display_name": "Python 3",
   "language": "python",
   "name": "python3"
  },
  "language_info": {
   "codemirror_mode": {
    "name": "ipython",
    "version": 3
   },
   "file_extension": ".py",
   "mimetype": "text/x-python",
   "name": "python",
   "nbconvert_exporter": "python",
   "pygments_lexer": "ipython3",
   "version": "3.7.1"
  }
 },
 "nbformat": 4,
 "nbformat_minor": 2
}
